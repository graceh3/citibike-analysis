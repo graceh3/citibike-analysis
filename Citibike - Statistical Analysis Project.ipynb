{
 "cells": [
  {
   "cell_type": "markdown",
   "metadata": {},
   "source": [
    "# Citibike - Statistical Analysis Project\n",
    "\n",
    "August 1, 2020\n",
    "\n",
    "<u>About the Data:</u>   https://www.citibikenyc.com/system-data <br>\n",
    "<u>Data Source:</u>    https://s3.amazonaws.com/tripdata/index.html<br>\n",
    "<u>Data Date Range:</u>    June 2019 - June 2020"
   ]
  },
  {
   "cell_type": "markdown",
   "metadata": {},
   "source": [
    "## About the Data"
   ]
  },
  {
   "cell_type": "markdown",
   "metadata": {},
   "source": [
    "<u>Data Columns:</u>\n",
    "- Trip Duration (seconds)\n",
    "- Start Time and Date\n",
    "- Stop Time and Date\n",
    "- Start Station Name\n",
    "- End Station Name\n",
    "- Station ID\n",
    "- Station Lat/Long\n",
    "- Bike ID\n",
    "- User Type (Customer = 24-hour pass or 3-day pass user; Subscriber = Annual Member)\n",
    "- Gender (Zero=unknown; 1=male; 2=female)\n",
    "- Year of Birth\n",
    "\n",
    "<u>Additional Notes:</u>\n",
    "- Test trips & trips < 60 seconds (potentially false starts or users tyring to redock bike) have been removed.\n",
    "- Milage estimates are calculated using an assumed speed of 7.456 miles per hour, up to two hours. Trips over two hours max-out at 14.9 miles. Once you opt into Ride Insights, the Citi Bike app will use your phone's location to record the route you take between your starting and ending Citi Bike station to give exact mileage.\n",
    "- We only include trips that begin at publicly available stations (thereby excluding trips that originate at our depots for rebalancing or maintenance purposes)."
   ]
  },
  {
   "cell_type": "markdown",
   "metadata": {},
   "source": [
    "## Setup"
   ]
  },
  {
   "cell_type": "markdown",
   "metadata": {},
   "source": [
    "### Import libraries"
   ]
  },
  {
   "cell_type": "code",
   "execution_count": 1,
   "metadata": {},
   "outputs": [
    {
     "name": "stderr",
     "output_type": "stream",
     "text": [
      "C:\\Users\\Grace\\Anaconda3\\lib\\site-packages\\statsmodels\\tools\\_testing.py:19: FutureWarning: pandas.util.testing is deprecated. Use the functions in the public API at pandas.testing instead.\n",
      "  import pandas.util.testing as tm\n"
     ]
    }
   ],
   "source": [
    "# import relevant libraries\n",
    "import pandas as pd\n",
    "import numpy as np\n",
    "import seaborn as sns\n",
    "import matplotlib.pyplot as plt\n",
    "import os\n",
    "import pickle\n",
    "pd.set_option(\"display.max_rows\", None)\n",
    "pd.set_option(\"display.max_columns\", None)\n",
    "pd.set_option('display.float_format', lambda x: '%f' % x)"
   ]
  },
  {
   "cell_type": "markdown",
   "metadata": {},
   "source": [
    "### Import data"
   ]
  },
  {
   "cell_type": "code",
   "execution_count": 2,
   "metadata": {},
   "outputs": [
    {
     "data": {
      "text/plain": [
       "'C:\\\\Users\\\\Grace\\\\Documents\\\\My_Git_Repos\\\\citibike-analysis'"
      ]
     },
     "execution_count": 2,
     "metadata": {},
     "output_type": "execute_result"
    }
   ],
   "source": [
    "os.getcwd()"
   ]
  },
  {
   "cell_type": "code",
   "execution_count": 3,
   "metadata": {},
   "outputs": [],
   "source": [
    "os.chdir(\"data/2019\") "
   ]
  },
  {
   "cell_type": "code",
   "execution_count": 4,
   "metadata": {},
   "outputs": [
    {
     "data": {
      "text/plain": [
       "['201901-citibike-tripdata.csv',\n",
       " '201902-citibike-tripdata.csv',\n",
       " '201903-citibike-tripdata.csv',\n",
       " '201904-citibike-tripdata.csv',\n",
       " '201905-citibike-tripdata.csv',\n",
       " '201906-citibike-tripdata.csv']"
      ]
     },
     "execution_count": 4,
     "metadata": {},
     "output_type": "execute_result"
    }
   ],
   "source": [
    "os.listdir()"
   ]
  },
  {
   "cell_type": "code",
   "execution_count": 5,
   "metadata": {},
   "outputs": [],
   "source": [
    "# import all 2019 files into a list of dataframes\n",
    "dfs_2019 = []\n",
    "for file in os.listdir():\n",
    "    dfs_2019.append(pd.read_csv(file))"
   ]
  },
  {
   "cell_type": "code",
   "execution_count": 6,
   "metadata": {},
   "outputs": [],
   "source": [
    "# concatenate all dataframes into a single dataframe\n",
    "df_2019 =pd.concat(dfs_2019,ignore_index=True)"
   ]
  },
  {
   "cell_type": "code",
   "execution_count": 7,
   "metadata": {},
   "outputs": [
    {
     "data": {
      "text/plain": [
       "(9055018, 15)"
      ]
     },
     "execution_count": 7,
     "metadata": {},
     "output_type": "execute_result"
    }
   ],
   "source": [
    "df_2019.shape"
   ]
  },
  {
   "cell_type": "code",
   "execution_count": 8,
   "metadata": {},
   "outputs": [],
   "source": [
    "# pickle the dataframe for easy re-import\n",
    "df_2019.to_pickle('df_2019.pickle')"
   ]
  },
  {
   "cell_type": "code",
   "execution_count": 13,
   "metadata": {},
   "outputs": [],
   "source": [
    "os.chdir(\"..\") "
   ]
  },
  {
   "cell_type": "code",
   "execution_count": 15,
   "metadata": {},
   "outputs": [
    {
     "data": {
      "text/plain": [
       "'C:\\\\Users\\\\Grace\\\\Documents\\\\My_Git_Repos\\\\citibike-analysis\\\\data'"
      ]
     },
     "execution_count": 15,
     "metadata": {},
     "output_type": "execute_result"
    }
   ],
   "source": [
    "os.getcwd()"
   ]
  },
  {
   "cell_type": "code",
   "execution_count": 16,
   "metadata": {},
   "outputs": [],
   "source": [
    "os.chdir('2020')"
   ]
  },
  {
   "cell_type": "code",
   "execution_count": 17,
   "metadata": {},
   "outputs": [
    {
     "data": {
      "text/plain": [
       "['202001-citibike-tripdata.csv',\n",
       " '202002-citibike-tripdata.csv',\n",
       " '202003-citibike-tripdata.csv',\n",
       " '202004-citibike-tripdata.csv',\n",
       " '202005-citibike-tripdata.csv',\n",
       " '202006-citibike-tripdata.csv']"
      ]
     },
     "execution_count": 17,
     "metadata": {},
     "output_type": "execute_result"
    }
   ],
   "source": [
    "os.listdir()"
   ]
  },
  {
   "cell_type": "code",
   "execution_count": 18,
   "metadata": {},
   "outputs": [],
   "source": [
    "# import all 2020 files into a list of dataframes\n",
    "dfs_2020 = []\n",
    "for file in os.listdir():\n",
    "    dfs_2020.append(pd.read_csv(file))"
   ]
  },
  {
   "cell_type": "code",
   "execution_count": 19,
   "metadata": {},
   "outputs": [],
   "source": [
    "# concatenate all dataframes into a single dataframe\n",
    "df_2020 =pd.concat(dfs_2020,ignore_index=True)"
   ]
  },
  {
   "cell_type": "code",
   "execution_count": 20,
   "metadata": {},
   "outputs": [
    {
     "data": {
      "text/plain": [
       "(7508808, 15)"
      ]
     },
     "execution_count": 20,
     "metadata": {},
     "output_type": "execute_result"
    }
   ],
   "source": [
    "df_2020.shape"
   ]
  },
  {
   "cell_type": "code",
   "execution_count": 21,
   "metadata": {},
   "outputs": [],
   "source": [
    "# pickle the dataframe for easy re-import\n",
    "df_2020.to_pickle('df_2020.pickle')"
   ]
  },
  {
   "cell_type": "markdown",
   "metadata": {},
   "source": [
    "## Data QA"
   ]
  },
  {
   "cell_type": "markdown",
   "metadata": {},
   "source": [
    "### Set datatypes\n",
    "\n",
    "Check that you have the right datatypes."
   ]
  },
  {
   "cell_type": "code",
   "execution_count": 22,
   "metadata": {
    "scrolled": false
   },
   "outputs": [
    {
     "data": {
      "text/plain": [
       "tripduration                 int64\n",
       "starttime                   object\n",
       "stoptime                    object\n",
       "start station id           float64\n",
       "start station name          object\n",
       "start station latitude     float64\n",
       "start station longitude    float64\n",
       "end station id             float64\n",
       "end station name            object\n",
       "end station latitude       float64\n",
       "end station longitude      float64\n",
       "bikeid                       int64\n",
       "usertype                    object\n",
       "birth year                   int64\n",
       "gender                       int64\n",
       "dtype: object"
      ]
     },
     "execution_count": 22,
     "metadata": {},
     "output_type": "execute_result"
    }
   ],
   "source": [
    "# original datatypes\n",
    "df_2019.dtypes"
   ]
  },
  {
   "cell_type": "code",
   "execution_count": 23,
   "metadata": {},
   "outputs": [
    {
     "data": {
      "text/plain": [
       "tripduration                 int64\n",
       "starttime                   object\n",
       "stoptime                    object\n",
       "start station id             int64\n",
       "start station name          object\n",
       "start station latitude     float64\n",
       "start station longitude    float64\n",
       "end station id               int64\n",
       "end station name            object\n",
       "end station latitude       float64\n",
       "end station longitude      float64\n",
       "bikeid                       int64\n",
       "usertype                    object\n",
       "birth year                   int64\n",
       "gender                       int64\n",
       "dtype: object"
      ]
     },
     "execution_count": 23,
     "metadata": {},
     "output_type": "execute_result"
    }
   ],
   "source": [
    "df_2020.dtypes"
   ]
  },
  {
   "cell_type": "markdown",
   "metadata": {},
   "source": [
    "`starttime` and `stoptime` are current set as strings so converting them to datetime."
   ]
  },
  {
   "cell_type": "code",
   "execution_count": 24,
   "metadata": {},
   "outputs": [],
   "source": [
    "df_2019['starttime'] = df_2019['starttime'].astype('datetime64')\n",
    "df_2019['stoptime'] =df_2019['stoptime'].astype('datetime64')\n",
    "\n",
    "df_2020['starttime'] = df_2020['starttime'].astype('datetime64')\n",
    "df_2020['stoptime'] =df_2020['stoptime'].astype('datetime64')"
   ]
  },
  {
   "cell_type": "markdown",
   "metadata": {},
   "source": [
    "### Create features\n",
    "\n",
    "\n",
    "<i>New features:</i>\n",
    "1. `tripduration_min`\n",
    "2. `starttime_year`\n",
    "3. `starttime_month`\n",
    "4. `age`"
   ]
  },
  {
   "cell_type": "markdown",
   "metadata": {},
   "source": [
    "Since `tripduration` is in seconds, let's create another column that shows duration in minutes."
   ]
  },
  {
   "cell_type": "code",
   "execution_count": 54,
   "metadata": {},
   "outputs": [],
   "source": [
    "df_2019['tripduration_min'] = df_2019['tripduration']/60\n",
    "df_2020['tripduration_min'] = df_2020['tripduration']/60"
   ]
  },
  {
   "cell_type": "markdown",
   "metadata": {},
   "source": [
    "It may also be helpful to extract the year & month of each starttimes."
   ]
  },
  {
   "cell_type": "code",
   "execution_count": 56,
   "metadata": {},
   "outputs": [],
   "source": [
    "# 2019 data\n",
    "df_2019['starttime_year'] = pd.DatetimeIndex(df_2019['starttime']).year\n",
    "df_2019['starttime_month'] = pd.DatetimeIndex(df_2019['starttime']).month\n",
    "\n",
    "# 2020 data\n",
    "df_2020['starttime_year'] = pd.DatetimeIndex(df_2020['starttime']).year\n",
    "df_2020['starttime_month'] = pd.DatetimeIndex(df_2020['starttime']).month"
   ]
  },
  {
   "cell_type": "markdown",
   "metadata": {},
   "source": [
    "Create `age` from `birth year`."
   ]
  },
  {
   "cell_type": "code",
   "execution_count": 30,
   "metadata": {},
   "outputs": [],
   "source": [
    "df_2019['age'] = 2019 - df_2019['birth year']\n",
    "df_2020['age'] = 2020 - df_2020['birth year']"
   ]
  },
  {
   "cell_type": "code",
   "execution_count": 31,
   "metadata": {},
   "outputs": [
    {
     "data": {
      "text/html": [
       "<div>\n",
       "<style scoped>\n",
       "    .dataframe tbody tr th:only-of-type {\n",
       "        vertical-align: middle;\n",
       "    }\n",
       "\n",
       "    .dataframe tbody tr th {\n",
       "        vertical-align: top;\n",
       "    }\n",
       "\n",
       "    .dataframe thead th {\n",
       "        text-align: right;\n",
       "    }\n",
       "</style>\n",
       "<table border=\"1\" class=\"dataframe\">\n",
       "  <thead>\n",
       "    <tr style=\"text-align: right;\">\n",
       "      <th></th>\n",
       "      <th>age</th>\n",
       "      <th>birth year</th>\n",
       "    </tr>\n",
       "  </thead>\n",
       "  <tbody>\n",
       "    <tr>\n",
       "      <th>0</th>\n",
       "      <td>48</td>\n",
       "      <td>1971</td>\n",
       "    </tr>\n",
       "    <tr>\n",
       "      <th>1</th>\n",
       "      <td>55</td>\n",
       "      <td>1964</td>\n",
       "    </tr>\n",
       "    <tr>\n",
       "      <th>2</th>\n",
       "      <td>32</td>\n",
       "      <td>1987</td>\n",
       "    </tr>\n",
       "    <tr>\n",
       "      <th>3</th>\n",
       "      <td>29</td>\n",
       "      <td>1990</td>\n",
       "    </tr>\n",
       "    <tr>\n",
       "      <th>4</th>\n",
       "      <td>40</td>\n",
       "      <td>1979</td>\n",
       "    </tr>\n",
       "  </tbody>\n",
       "</table>\n",
       "</div>"
      ],
      "text/plain": [
       "   age  birth year\n",
       "0   48        1971\n",
       "1   55        1964\n",
       "2   32        1987\n",
       "3   29        1990\n",
       "4   40        1979"
      ]
     },
     "execution_count": 31,
     "metadata": {},
     "output_type": "execute_result"
    }
   ],
   "source": [
    "df_2019[['age', 'birth year']].head()"
   ]
  },
  {
   "cell_type": "code",
   "execution_count": 32,
   "metadata": {},
   "outputs": [
    {
     "data": {
      "text/html": [
       "<div>\n",
       "<style scoped>\n",
       "    .dataframe tbody tr th:only-of-type {\n",
       "        vertical-align: middle;\n",
       "    }\n",
       "\n",
       "    .dataframe tbody tr th {\n",
       "        vertical-align: top;\n",
       "    }\n",
       "\n",
       "    .dataframe thead th {\n",
       "        text-align: right;\n",
       "    }\n",
       "</style>\n",
       "<table border=\"1\" class=\"dataframe\">\n",
       "  <thead>\n",
       "    <tr style=\"text-align: right;\">\n",
       "      <th></th>\n",
       "      <th>age</th>\n",
       "      <th>birth year</th>\n",
       "    </tr>\n",
       "  </thead>\n",
       "  <tbody>\n",
       "    <tr>\n",
       "      <th>0</th>\n",
       "      <td>28</td>\n",
       "      <td>1992</td>\n",
       "    </tr>\n",
       "    <tr>\n",
       "      <th>1</th>\n",
       "      <td>51</td>\n",
       "      <td>1969</td>\n",
       "    </tr>\n",
       "    <tr>\n",
       "      <th>2</th>\n",
       "      <td>57</td>\n",
       "      <td>1963</td>\n",
       "    </tr>\n",
       "    <tr>\n",
       "      <th>3</th>\n",
       "      <td>40</td>\n",
       "      <td>1980</td>\n",
       "    </tr>\n",
       "    <tr>\n",
       "      <th>4</th>\n",
       "      <td>38</td>\n",
       "      <td>1982</td>\n",
       "    </tr>\n",
       "  </tbody>\n",
       "</table>\n",
       "</div>"
      ],
      "text/plain": [
       "   age  birth year\n",
       "0   28        1992\n",
       "1   51        1969\n",
       "2   57        1963\n",
       "3   40        1980\n",
       "4   38        1982"
      ]
     },
     "execution_count": 32,
     "metadata": {},
     "output_type": "execute_result"
    }
   ],
   "source": [
    "df_2020[['age', 'birth year']].head()"
   ]
  },
  {
   "cell_type": "markdown",
   "metadata": {},
   "source": [
    "### Assess summary statistics & look for null values"
   ]
  },
  {
   "cell_type": "code",
   "execution_count": 43,
   "metadata": {},
   "outputs": [
    {
     "data": {
      "text/plain": [
       "tripduration                0\n",
       "starttime                   0\n",
       "stoptime                    0\n",
       "start station id           37\n",
       "start station name         37\n",
       "start station latitude      0\n",
       "start station longitude     0\n",
       "end station id             37\n",
       "end station name           37\n",
       "end station latitude        0\n",
       "end station longitude       0\n",
       "bikeid                      0\n",
       "usertype                    0\n",
       "birth year                  0\n",
       "gender                      0\n",
       "age                         0\n",
       "dtype: int64"
      ]
     },
     "execution_count": 43,
     "metadata": {},
     "output_type": "execute_result"
    }
   ],
   "source": [
    "df_2019.isna().sum()"
   ]
  },
  {
   "cell_type": "markdown",
   "metadata": {},
   "source": [
    "Check that the same 37 records are null across the four columns."
   ]
  },
  {
   "cell_type": "code",
   "execution_count": 41,
   "metadata": {},
   "outputs": [
    {
     "data": {
      "text/plain": [
       "(37, 16)"
      ]
     },
     "execution_count": 41,
     "metadata": {},
     "output_type": "execute_result"
    }
   ],
   "source": [
    "df_2019[(df_2019['start station id'].isna()==1) & \\\n",
    "        (df_2019['start station name'].isna()==1) &\\\n",
    "       (df_2019['end station id'].isna()==1) & \\\n",
    "       (df_2019['end station name'].isna()==1)].shape"
   ]
  },
  {
   "cell_type": "code",
   "execution_count": 45,
   "metadata": {},
   "outputs": [
    {
     "data": {
      "text/plain": [
       "(9055018, 16)"
      ]
     },
     "execution_count": 45,
     "metadata": {},
     "output_type": "execute_result"
    }
   ],
   "source": [
    "df_2019.shape"
   ]
  },
  {
   "cell_type": "code",
   "execution_count": 46,
   "metadata": {},
   "outputs": [
    {
     "data": {
      "text/plain": [
       "9054981"
      ]
     },
     "execution_count": 46,
     "metadata": {},
     "output_type": "execute_result"
    }
   ],
   "source": [
    "9055018-37"
   ]
  },
  {
   "cell_type": "markdown",
   "metadata": {},
   "source": [
    "Drop these 37 rows. Should end up with 9,054,981 (9,055,018-37) rows."
   ]
  },
  {
   "cell_type": "code",
   "execution_count": 47,
   "metadata": {},
   "outputs": [],
   "source": [
    "df_2019=df_2019.dropna(how='any')"
   ]
  },
  {
   "cell_type": "code",
   "execution_count": 48,
   "metadata": {},
   "outputs": [
    {
     "data": {
      "text/plain": [
       "(9054981, 16)"
      ]
     },
     "execution_count": 48,
     "metadata": {},
     "output_type": "execute_result"
    }
   ],
   "source": [
    "df_2019.shape"
   ]
  },
  {
   "cell_type": "markdown",
   "metadata": {},
   "source": [
    "No nulls in the 2020 data."
   ]
  },
  {
   "cell_type": "code",
   "execution_count": 49,
   "metadata": {},
   "outputs": [
    {
     "data": {
      "text/plain": [
       "tripduration               0\n",
       "starttime                  0\n",
       "stoptime                   0\n",
       "start station id           0\n",
       "start station name         0\n",
       "start station latitude     0\n",
       "start station longitude    0\n",
       "end station id             0\n",
       "end station name           0\n",
       "end station latitude       0\n",
       "end station longitude      0\n",
       "bikeid                     0\n",
       "usertype                   0\n",
       "birth year                 0\n",
       "gender                     0\n",
       "age                        0\n",
       "dtype: int64"
      ]
     },
     "execution_count": 49,
     "metadata": {},
     "output_type": "execute_result"
    }
   ],
   "source": [
    "df_2020.isna().sum()"
   ]
  },
  {
   "cell_type": "markdown",
   "metadata": {},
   "source": [
    "Let's look at the summary statics for any odd values."
   ]
  },
  {
   "cell_type": "code",
   "execution_count": 58,
   "metadata": {
    "scrolled": true
   },
   "outputs": [
    {
     "data": {
      "text/html": [
       "<div>\n",
       "<style scoped>\n",
       "    .dataframe tbody tr th:only-of-type {\n",
       "        vertical-align: middle;\n",
       "    }\n",
       "\n",
       "    .dataframe tbody tr th {\n",
       "        vertical-align: top;\n",
       "    }\n",
       "\n",
       "    .dataframe thead th {\n",
       "        text-align: right;\n",
       "    }\n",
       "</style>\n",
       "<table border=\"1\" class=\"dataframe\">\n",
       "  <thead>\n",
       "    <tr style=\"text-align: right;\">\n",
       "      <th></th>\n",
       "      <th>tripduration</th>\n",
       "      <th>start station id</th>\n",
       "      <th>start station latitude</th>\n",
       "      <th>start station longitude</th>\n",
       "      <th>end station id</th>\n",
       "      <th>end station latitude</th>\n",
       "      <th>end station longitude</th>\n",
       "      <th>bikeid</th>\n",
       "      <th>birth year</th>\n",
       "      <th>gender</th>\n",
       "      <th>age</th>\n",
       "      <th>tripduration_min</th>\n",
       "      <th>starttime_year</th>\n",
       "      <th>starttime_month</th>\n",
       "    </tr>\n",
       "  </thead>\n",
       "  <tbody>\n",
       "    <tr>\n",
       "      <th>count</th>\n",
       "      <td>9054981.000000</td>\n",
       "      <td>9054981.000000</td>\n",
       "      <td>9054981.000000</td>\n",
       "      <td>9054981.000000</td>\n",
       "      <td>9054981.000000</td>\n",
       "      <td>9054981.000000</td>\n",
       "      <td>9054981.000000</td>\n",
       "      <td>9054981.000000</td>\n",
       "      <td>9054981.000000</td>\n",
       "      <td>9054981.000000</td>\n",
       "      <td>9054981.000000</td>\n",
       "      <td>9054981.000000</td>\n",
       "      <td>9054981.000000</td>\n",
       "      <td>9054981.000000</td>\n",
       "    </tr>\n",
       "    <tr>\n",
       "      <th>mean</th>\n",
       "      <td>990.020184</td>\n",
       "      <td>1663.462444</td>\n",
       "      <td>40.737064</td>\n",
       "      <td>-73.982047</td>\n",
       "      <td>1655.304334</td>\n",
       "      <td>40.736844</td>\n",
       "      <td>-73.982251</td>\n",
       "      <td>28278.537632</td>\n",
       "      <td>1979.711640</td>\n",
       "      <td>1.160708</td>\n",
       "      <td>39.288360</td>\n",
       "      <td>16.500336</td>\n",
       "      <td>2019.000000</td>\n",
       "      <td>4.006414</td>\n",
       "    </tr>\n",
       "    <tr>\n",
       "      <th>std</th>\n",
       "      <td>11234.735920</td>\n",
       "      <td>1470.033989</td>\n",
       "      <td>0.030657</td>\n",
       "      <td>0.019397</td>\n",
       "      <td>1469.547474</td>\n",
       "      <td>0.030517</td>\n",
       "      <td>0.019466</td>\n",
       "      <td>6622.148641</td>\n",
       "      <td>12.082655</td>\n",
       "      <td>0.527176</td>\n",
       "      <td>12.082655</td>\n",
       "      <td>187.245599</td>\n",
       "      <td>0.000000</td>\n",
       "      <td>1.635945</td>\n",
       "    </tr>\n",
       "    <tr>\n",
       "      <th>min</th>\n",
       "      <td>61.000000</td>\n",
       "      <td>72.000000</td>\n",
       "      <td>40.655400</td>\n",
       "      <td>-74.025353</td>\n",
       "      <td>72.000000</td>\n",
       "      <td>40.655400</td>\n",
       "      <td>-74.068601</td>\n",
       "      <td>14529.000000</td>\n",
       "      <td>1857.000000</td>\n",
       "      <td>0.000000</td>\n",
       "      <td>16.000000</td>\n",
       "      <td>1.016667</td>\n",
       "      <td>2019.000000</td>\n",
       "      <td>1.000000</td>\n",
       "    </tr>\n",
       "    <tr>\n",
       "      <th>25%</th>\n",
       "      <td>351.000000</td>\n",
       "      <td>383.000000</td>\n",
       "      <td>40.717548</td>\n",
       "      <td>-73.994903</td>\n",
       "      <td>382.000000</td>\n",
       "      <td>40.717488</td>\n",
       "      <td>-73.995299</td>\n",
       "      <td>24872.000000</td>\n",
       "      <td>1969.000000</td>\n",
       "      <td>1.000000</td>\n",
       "      <td>29.000000</td>\n",
       "      <td>5.850000</td>\n",
       "      <td>2019.000000</td>\n",
       "      <td>3.000000</td>\n",
       "    </tr>\n",
       "    <tr>\n",
       "      <th>50%</th>\n",
       "      <td>598.000000</td>\n",
       "      <td>515.000000</td>\n",
       "      <td>40.737815</td>\n",
       "      <td>-73.984907</td>\n",
       "      <td>514.000000</td>\n",
       "      <td>40.737262</td>\n",
       "      <td>-73.985624</td>\n",
       "      <td>30189.000000</td>\n",
       "      <td>1982.000000</td>\n",
       "      <td>1.000000</td>\n",
       "      <td>37.000000</td>\n",
       "      <td>9.966667</td>\n",
       "      <td>2019.000000</td>\n",
       "      <td>4.000000</td>\n",
       "    </tr>\n",
       "    <tr>\n",
       "      <th>75%</th>\n",
       "      <td>1060.000000</td>\n",
       "      <td>3292.000000</td>\n",
       "      <td>40.757246</td>\n",
       "      <td>-73.971370</td>\n",
       "      <td>3290.000000</td>\n",
       "      <td>40.757148</td>\n",
       "      <td>-73.971789</td>\n",
       "      <td>33753.000000</td>\n",
       "      <td>1990.000000</td>\n",
       "      <td>1.000000</td>\n",
       "      <td>50.000000</td>\n",
       "      <td>17.666667</td>\n",
       "      <td>2019.000000</td>\n",
       "      <td>5.000000</td>\n",
       "    </tr>\n",
       "    <tr>\n",
       "      <th>max</th>\n",
       "      <td>3379585.000000</td>\n",
       "      <td>3795.000000</td>\n",
       "      <td>40.814394</td>\n",
       "      <td>-73.907744</td>\n",
       "      <td>3795.000000</td>\n",
       "      <td>40.814394</td>\n",
       "      <td>-73.907744</td>\n",
       "      <td>39934.000000</td>\n",
       "      <td>2003.000000</td>\n",
       "      <td>2.000000</td>\n",
       "      <td>162.000000</td>\n",
       "      <td>56326.416667</td>\n",
       "      <td>2019.000000</td>\n",
       "      <td>6.000000</td>\n",
       "    </tr>\n",
       "  </tbody>\n",
       "</table>\n",
       "</div>"
      ],
      "text/plain": [
       "        tripduration  start station id  start station latitude  \\\n",
       "count 9054981.000000    9054981.000000          9054981.000000   \n",
       "mean      990.020184       1663.462444               40.737064   \n",
       "std     11234.735920       1470.033989                0.030657   \n",
       "min        61.000000         72.000000               40.655400   \n",
       "25%       351.000000        383.000000               40.717548   \n",
       "50%       598.000000        515.000000               40.737815   \n",
       "75%      1060.000000       3292.000000               40.757246   \n",
       "max   3379585.000000       3795.000000               40.814394   \n",
       "\n",
       "       start station longitude  end station id  end station latitude  \\\n",
       "count           9054981.000000  9054981.000000        9054981.000000   \n",
       "mean                -73.982047     1655.304334             40.736844   \n",
       "std                   0.019397     1469.547474              0.030517   \n",
       "min                 -74.025353       72.000000             40.655400   \n",
       "25%                 -73.994903      382.000000             40.717488   \n",
       "50%                 -73.984907      514.000000             40.737262   \n",
       "75%                 -73.971370     3290.000000             40.757148   \n",
       "max                 -73.907744     3795.000000             40.814394   \n",
       "\n",
       "       end station longitude         bikeid     birth year         gender  \\\n",
       "count         9054981.000000 9054981.000000 9054981.000000 9054981.000000   \n",
       "mean              -73.982251   28278.537632    1979.711640       1.160708   \n",
       "std                 0.019466    6622.148641      12.082655       0.527176   \n",
       "min               -74.068601   14529.000000    1857.000000       0.000000   \n",
       "25%               -73.995299   24872.000000    1969.000000       1.000000   \n",
       "50%               -73.985624   30189.000000    1982.000000       1.000000   \n",
       "75%               -73.971789   33753.000000    1990.000000       1.000000   \n",
       "max               -73.907744   39934.000000    2003.000000       2.000000   \n",
       "\n",
       "                 age  tripduration_min  starttime_year  starttime_month  \n",
       "count 9054981.000000    9054981.000000  9054981.000000   9054981.000000  \n",
       "mean       39.288360         16.500336     2019.000000         4.006414  \n",
       "std        12.082655        187.245599        0.000000         1.635945  \n",
       "min        16.000000          1.016667     2019.000000         1.000000  \n",
       "25%        29.000000          5.850000     2019.000000         3.000000  \n",
       "50%        37.000000          9.966667     2019.000000         4.000000  \n",
       "75%        50.000000         17.666667     2019.000000         5.000000  \n",
       "max       162.000000      56326.416667     2019.000000         6.000000  "
      ]
     },
     "execution_count": 58,
     "metadata": {},
     "output_type": "execute_result"
    }
   ],
   "source": [
    "df_2019.describe()"
   ]
  },
  {
   "cell_type": "code",
   "execution_count": 59,
   "metadata": {},
   "outputs": [
    {
     "data": {
      "text/html": [
       "<div>\n",
       "<style scoped>\n",
       "    .dataframe tbody tr th:only-of-type {\n",
       "        vertical-align: middle;\n",
       "    }\n",
       "\n",
       "    .dataframe tbody tr th {\n",
       "        vertical-align: top;\n",
       "    }\n",
       "\n",
       "    .dataframe thead th {\n",
       "        text-align: right;\n",
       "    }\n",
       "</style>\n",
       "<table border=\"1\" class=\"dataframe\">\n",
       "  <thead>\n",
       "    <tr style=\"text-align: right;\">\n",
       "      <th></th>\n",
       "      <th>tripduration</th>\n",
       "      <th>start station id</th>\n",
       "      <th>start station latitude</th>\n",
       "      <th>start station longitude</th>\n",
       "      <th>end station id</th>\n",
       "      <th>end station latitude</th>\n",
       "      <th>end station longitude</th>\n",
       "      <th>bikeid</th>\n",
       "      <th>birth year</th>\n",
       "      <th>gender</th>\n",
       "      <th>age</th>\n",
       "      <th>tripduration_min</th>\n",
       "      <th>starttime_year</th>\n",
       "      <th>starttime_month</th>\n",
       "    </tr>\n",
       "  </thead>\n",
       "  <tbody>\n",
       "    <tr>\n",
       "      <th>count</th>\n",
       "      <td>7508808.000000</td>\n",
       "      <td>7508808.000000</td>\n",
       "      <td>7508808.000000</td>\n",
       "      <td>7508808.000000</td>\n",
       "      <td>7508808.000000</td>\n",
       "      <td>7508808.000000</td>\n",
       "      <td>7508808.000000</td>\n",
       "      <td>7508808.000000</td>\n",
       "      <td>7508808.000000</td>\n",
       "      <td>7508808.000000</td>\n",
       "      <td>7508808.000000</td>\n",
       "      <td>7508808.000000</td>\n",
       "      <td>7508808.000000</td>\n",
       "      <td>7508808.000000</td>\n",
       "    </tr>\n",
       "    <tr>\n",
       "      <th>mean</th>\n",
       "      <td>1296.706479</td>\n",
       "      <td>1909.454409</td>\n",
       "      <td>40.738886</td>\n",
       "      <td>-73.978329</td>\n",
       "      <td>1902.072681</td>\n",
       "      <td>40.738546</td>\n",
       "      <td>-73.978530</td>\n",
       "      <td>33529.882299</td>\n",
       "      <td>1980.496803</td>\n",
       "      <td>1.173623</td>\n",
       "      <td>39.503197</td>\n",
       "      <td>21.611775</td>\n",
       "      <td>2020.000000</td>\n",
       "      <td>3.756091</td>\n",
       "    </tr>\n",
       "    <tr>\n",
       "      <th>std</th>\n",
       "      <td>12508.910894</td>\n",
       "      <td>1522.877728</td>\n",
       "      <td>0.033259</td>\n",
       "      <td>0.021976</td>\n",
       "      <td>1523.604046</td>\n",
       "      <td>0.033144</td>\n",
       "      <td>0.022021</td>\n",
       "      <td>8385.868800</td>\n",
       "      <td>12.317975</td>\n",
       "      <td>0.582472</td>\n",
       "      <td>12.317975</td>\n",
       "      <td>208.481848</td>\n",
       "      <td>0.000000</td>\n",
       "      <td>1.838899</td>\n",
       "    </tr>\n",
       "    <tr>\n",
       "      <th>min</th>\n",
       "      <td>61.000000</td>\n",
       "      <td>72.000000</td>\n",
       "      <td>40.655400</td>\n",
       "      <td>-74.017134</td>\n",
       "      <td>72.000000</td>\n",
       "      <td>40.655400</td>\n",
       "      <td>-74.071262</td>\n",
       "      <td>14529.000000</td>\n",
       "      <td>1873.000000</td>\n",
       "      <td>0.000000</td>\n",
       "      <td>16.000000</td>\n",
       "      <td>1.016667</td>\n",
       "      <td>2020.000000</td>\n",
       "      <td>1.000000</td>\n",
       "    </tr>\n",
       "    <tr>\n",
       "      <th>25%</th>\n",
       "      <td>409.000000</td>\n",
       "      <td>408.000000</td>\n",
       "      <td>40.716250</td>\n",
       "      <td>-73.993934</td>\n",
       "      <td>405.000000</td>\n",
       "      <td>40.716075</td>\n",
       "      <td>-73.994156</td>\n",
       "      <td>28847.000000</td>\n",
       "      <td>1969.000000</td>\n",
       "      <td>1.000000</td>\n",
       "      <td>30.000000</td>\n",
       "      <td>6.816667</td>\n",
       "      <td>2020.000000</td>\n",
       "      <td>2.000000</td>\n",
       "    </tr>\n",
       "    <tr>\n",
       "      <th>50%</th>\n",
       "      <td>768.000000</td>\n",
       "      <td>2006.000000</td>\n",
       "      <td>40.739126</td>\n",
       "      <td>-73.981948</td>\n",
       "      <td>2006.000000</td>\n",
       "      <td>40.738274</td>\n",
       "      <td>-73.982079</td>\n",
       "      <td>35323.000000</td>\n",
       "      <td>1983.000000</td>\n",
       "      <td>1.000000</td>\n",
       "      <td>37.000000</td>\n",
       "      <td>12.800000</td>\n",
       "      <td>2020.000000</td>\n",
       "      <td>4.000000</td>\n",
       "    </tr>\n",
       "    <tr>\n",
       "      <th>75%</th>\n",
       "      <td>1431.000000</td>\n",
       "      <td>3387.000000</td>\n",
       "      <td>40.761438</td>\n",
       "      <td>-73.963198</td>\n",
       "      <td>3388.000000</td>\n",
       "      <td>40.761149</td>\n",
       "      <td>-73.963198</td>\n",
       "      <td>40419.000000</td>\n",
       "      <td>1990.000000</td>\n",
       "      <td>2.000000</td>\n",
       "      <td>51.000000</td>\n",
       "      <td>23.850000</td>\n",
       "      <td>2020.000000</td>\n",
       "      <td>6.000000</td>\n",
       "    </tr>\n",
       "    <tr>\n",
       "      <th>max</th>\n",
       "      <td>3786187.000000</td>\n",
       "      <td>4038.000000</td>\n",
       "      <td>40.842842</td>\n",
       "      <td>-73.897950</td>\n",
       "      <td>4038.000000</td>\n",
       "      <td>40.842842</td>\n",
       "      <td>-73.897950</td>\n",
       "      <td>44542.000000</td>\n",
       "      <td>2004.000000</td>\n",
       "      <td>2.000000</td>\n",
       "      <td>147.000000</td>\n",
       "      <td>63103.116667</td>\n",
       "      <td>2020.000000</td>\n",
       "      <td>6.000000</td>\n",
       "    </tr>\n",
       "  </tbody>\n",
       "</table>\n",
       "</div>"
      ],
      "text/plain": [
       "        tripduration  start station id  start station latitude  \\\n",
       "count 7508808.000000    7508808.000000          7508808.000000   \n",
       "mean     1296.706479       1909.454409               40.738886   \n",
       "std     12508.910894       1522.877728                0.033259   \n",
       "min        61.000000         72.000000               40.655400   \n",
       "25%       409.000000        408.000000               40.716250   \n",
       "50%       768.000000       2006.000000               40.739126   \n",
       "75%      1431.000000       3387.000000               40.761438   \n",
       "max   3786187.000000       4038.000000               40.842842   \n",
       "\n",
       "       start station longitude  end station id  end station latitude  \\\n",
       "count           7508808.000000  7508808.000000        7508808.000000   \n",
       "mean                -73.978329     1902.072681             40.738546   \n",
       "std                   0.021976     1523.604046              0.033144   \n",
       "min                 -74.017134       72.000000             40.655400   \n",
       "25%                 -73.993934      405.000000             40.716075   \n",
       "50%                 -73.981948     2006.000000             40.738274   \n",
       "75%                 -73.963198     3388.000000             40.761149   \n",
       "max                 -73.897950     4038.000000             40.842842   \n",
       "\n",
       "       end station longitude         bikeid     birth year         gender  \\\n",
       "count         7508808.000000 7508808.000000 7508808.000000 7508808.000000   \n",
       "mean              -73.978530   33529.882299    1980.496803       1.173623   \n",
       "std                 0.022021    8385.868800      12.317975       0.582472   \n",
       "min               -74.071262   14529.000000    1873.000000       0.000000   \n",
       "25%               -73.994156   28847.000000    1969.000000       1.000000   \n",
       "50%               -73.982079   35323.000000    1983.000000       1.000000   \n",
       "75%               -73.963198   40419.000000    1990.000000       2.000000   \n",
       "max               -73.897950   44542.000000    2004.000000       2.000000   \n",
       "\n",
       "                 age  tripduration_min  starttime_year  starttime_month  \n",
       "count 7508808.000000    7508808.000000  7508808.000000   7508808.000000  \n",
       "mean       39.503197         21.611775     2020.000000         3.756091  \n",
       "std        12.317975        208.481848        0.000000         1.838899  \n",
       "min        16.000000          1.016667     2020.000000         1.000000  \n",
       "25%        30.000000          6.816667     2020.000000         2.000000  \n",
       "50%        37.000000         12.800000     2020.000000         4.000000  \n",
       "75%        51.000000         23.850000     2020.000000         6.000000  \n",
       "max       147.000000      63103.116667     2020.000000         6.000000  "
      ]
     },
     "execution_count": 59,
     "metadata": {},
     "output_type": "execute_result"
    }
   ],
   "source": [
    "df_2020.describe()"
   ]
  },
  {
   "cell_type": "markdown",
   "metadata": {},
   "source": [
    "There are ages (>100) that do not make sense.\n",
    "\n",
    "There are trip durations that are extremely long (spanning several days)."
   ]
  },
  {
   "cell_type": "markdown",
   "metadata": {},
   "source": [
    "## Data Analysis"
   ]
  },
  {
   "cell_type": "markdown",
   "metadata": {},
   "source": [
    "###  Questions\n",
    "\n",
    "- Ridership numbers\n",
    "- Duration of trips\n",
    "- Popular & least popular stations (start & end stations)\n",
    "- Popular routes (maybe visualize the routes on a map)\n",
    "- Who's riding Citibikes during COVID (age, gender)?\n",
    "- How has bike rental behavior changed due to COVID?\n",
    "- Did we lose subscribers during COVID?"
   ]
  },
  {
   "cell_type": "markdown",
   "metadata": {},
   "source": [
    "### Ridership Numbers"
   ]
  },
  {
   "cell_type": "code",
   "execution_count": null,
   "metadata": {},
   "outputs": [],
   "source": []
  }
 ],
 "metadata": {
  "kernelspec": {
   "display_name": "Python 3",
   "language": "python",
   "name": "python3"
  },
  "language_info": {
   "codemirror_mode": {
    "name": "ipython",
    "version": 3
   },
   "file_extension": ".py",
   "mimetype": "text/x-python",
   "name": "python",
   "nbconvert_exporter": "python",
   "pygments_lexer": "ipython3",
   "version": "3.7.4"
  },
  "toc": {
   "base_numbering": 1,
   "nav_menu": {
    "height": "112px",
    "width": "312px"
   },
   "number_sections": true,
   "sideBar": true,
   "skip_h1_title": true,
   "title_cell": "Table of Contents",
   "title_sidebar": "Contents",
   "toc_cell": false,
   "toc_position": {
    "height": "calc(100% - 180px)",
    "left": "10px",
    "top": "150px",
    "width": "165px"
   },
   "toc_section_display": true,
   "toc_window_display": true
  }
 },
 "nbformat": 4,
 "nbformat_minor": 2
}
