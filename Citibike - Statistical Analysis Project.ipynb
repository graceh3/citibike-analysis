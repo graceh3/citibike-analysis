{
 "cells": [
  {
   "cell_type": "markdown",
   "metadata": {},
   "source": [
    "# Citibike - Statistical Analysis Project\n",
    "\n",
    "<i>August 2020</i>\n",
    "\n",
    "- <u>About the Data:</u>\n",
    "    - https://www.citibikenyc.com/system-data\n",
    "- <u>Data Source:</u>    \n",
    "    - https://s3.amazonaws.com/tripdata/index.html<br>\n",
    "- <u>Data Date Range:</u>\n",
    "    - Jan-June 2019 & Jan-June 2020"
   ]
  },
  {
   "cell_type": "markdown",
   "metadata": {
    "heading_collapsed": true
   },
   "source": [
    "## About the Data"
   ]
  },
  {
   "cell_type": "markdown",
   "metadata": {
    "hidden": true
   },
   "source": [
    "<u>Data Columns:</u>\n",
    "- Trip Duration (seconds)\n",
    "- Start Time and Date\n",
    "- Stop Time and Date\n",
    "- Start Station Name\n",
    "- End Station Name\n",
    "- Station ID\n",
    "- Station Lat/Long\n",
    "- Bike ID\n",
    "- User Type (Customer = 24-hour pass or 3-day pass user; Subscriber = Annual Member)\n",
    "- Gender (Zero=unknown; 1=male; 2=female)\n",
    "- Year of Birth\n",
    "\n",
    "<u>Additional Notes:</u>\n",
    "- Test trips & trips < 60 seconds (potentially false starts or users tyring to redock bike) have been removed.\n",
    "- Milage estimates are calculated using an assumed speed of 7.456 miles per hour, up to two hours. Trips over two hours max-out at 14.9 miles. Once you opt into Ride Insights, the Citi Bike app will use your phone's location to record the route you take between your starting and ending Citi Bike station to give exact mileage.\n",
    "- We only include trips that begin at publicly available stations (thereby excluding trips that originate at our depots for rebalancing or maintenance purposes)."
   ]
  },
  {
   "cell_type": "markdown",
   "metadata": {},
   "source": [
    "## Setup"
   ]
  },
  {
   "cell_type": "markdown",
   "metadata": {},
   "source": [
    "### Import libraries"
   ]
  },
  {
   "cell_type": "code",
   "execution_count": 1,
   "metadata": {
    "ExecuteTime": {
     "end_time": "2020-08-23T19:10:34.325450Z",
     "start_time": "2020-08-23T19:10:30.571746Z"
    }
   },
   "outputs": [
    {
     "name": "stderr",
     "output_type": "stream",
     "text": [
      "C:\\Users\\Grace\\Anaconda3\\lib\\site-packages\\statsmodels\\tools\\_testing.py:19: FutureWarning: pandas.util.testing is deprecated. Use the functions in the public API at pandas.testing instead.\n",
      "  import pandas.util.testing as tm\n"
     ]
    }
   ],
   "source": [
    "# import relevant libraries\n",
    "import pandas as pd\n",
    "import numpy as np\n",
    "import seaborn as sns\n",
    "import matplotlib.pyplot as plt\n",
    "import os\n",
    "import pickle\n",
    "import plotly.express as px\n",
    "pd.set_option(\"display.max_rows\", None)\n",
    "pd.set_option(\"display.max_columns\", None)\n",
    "pd.set_option('display.float_format', lambda x: '%f' % x)\n",
    "pd.options.display.float_format = '{:,}'.format"
   ]
  },
  {
   "cell_type": "markdown",
   "metadata": {
    "heading_collapsed": true
   },
   "source": [
    "### Import data"
   ]
  },
  {
   "cell_type": "code",
   "execution_count": 2,
   "metadata": {
    "ExecuteTime": {
     "end_time": "2020-08-11T23:47:01.130320Z",
     "start_time": "2020-08-11T23:47:01.123339Z"
    },
    "hidden": true
   },
   "outputs": [
    {
     "data": {
      "text/plain": [
       "'C:\\\\Users\\\\Grace\\\\Documents\\\\My_Git_Repos\\\\citibike-analysis'"
      ]
     },
     "execution_count": 2,
     "metadata": {},
     "output_type": "execute_result"
    }
   ],
   "source": [
    "os.getcwd()"
   ]
  },
  {
   "cell_type": "code",
   "execution_count": 3,
   "metadata": {
    "ExecuteTime": {
     "end_time": "2020-08-11T23:47:02.758158Z",
     "start_time": "2020-08-11T23:47:02.752174Z"
    },
    "hidden": true
   },
   "outputs": [],
   "source": [
    "os.chdir(\"data/2019\") "
   ]
  },
  {
   "cell_type": "code",
   "execution_count": 4,
   "metadata": {
    "ExecuteTime": {
     "end_time": "2020-08-11T23:47:04.051456Z",
     "start_time": "2020-08-11T23:47:04.044475Z"
    },
    "hidden": true
   },
   "outputs": [
    {
     "data": {
      "text/plain": [
       "['201901-citibike-tripdata.csv',\n",
       " '201902-citibike-tripdata.csv',\n",
       " '201903-citibike-tripdata.csv',\n",
       " '201904-citibike-tripdata.csv',\n",
       " '201905-citibike-tripdata.csv',\n",
       " '201906-citibike-tripdata.csv',\n",
       " 'df_2019.pickle']"
      ]
     },
     "execution_count": 4,
     "metadata": {},
     "output_type": "execute_result"
    }
   ],
   "source": [
    "os.listdir()"
   ]
  },
  {
   "cell_type": "code",
   "execution_count": 5,
   "metadata": {
    "hidden": true
   },
   "outputs": [],
   "source": [
    "# import all 2019 files into a list of dataframes\n",
    "dfs_2019 = []\n",
    "for file in os.listdir():\n",
    "    dfs_2019.append(pd.read_csv(file))"
   ]
  },
  {
   "cell_type": "code",
   "execution_count": 6,
   "metadata": {
    "hidden": true
   },
   "outputs": [],
   "source": [
    "# concatenate all dataframes into a single dataframe\n",
    "df_2019 =pd.concat(dfs_2019,ignore_index=True)"
   ]
  },
  {
   "cell_type": "code",
   "execution_count": 7,
   "metadata": {
    "hidden": true
   },
   "outputs": [
    {
     "data": {
      "text/plain": [
       "(9055018, 15)"
      ]
     },
     "execution_count": 7,
     "metadata": {},
     "output_type": "execute_result"
    }
   ],
   "source": [
    "df_2019.shape"
   ]
  },
  {
   "cell_type": "code",
   "execution_count": 8,
   "metadata": {
    "hidden": true
   },
   "outputs": [],
   "source": [
    "# pickle the dataframe for easy re-import\n",
    "df_2019.to_pickle('df_2019.pickle')"
   ]
  },
  {
   "cell_type": "code",
   "execution_count": 13,
   "metadata": {
    "hidden": true
   },
   "outputs": [],
   "source": [
    "os.chdir(\"..\") "
   ]
  },
  {
   "cell_type": "code",
   "execution_count": 15,
   "metadata": {
    "hidden": true
   },
   "outputs": [
    {
     "data": {
      "text/plain": [
       "'C:\\\\Users\\\\Grace\\\\Documents\\\\My_Git_Repos\\\\citibike-analysis\\\\data'"
      ]
     },
     "execution_count": 15,
     "metadata": {},
     "output_type": "execute_result"
    }
   ],
   "source": [
    "os.getcwd()"
   ]
  },
  {
   "cell_type": "code",
   "execution_count": 16,
   "metadata": {
    "hidden": true
   },
   "outputs": [],
   "source": [
    "os.chdir('2020')"
   ]
  },
  {
   "cell_type": "code",
   "execution_count": 17,
   "metadata": {
    "hidden": true
   },
   "outputs": [
    {
     "data": {
      "text/plain": [
       "['202001-citibike-tripdata.csv',\n",
       " '202002-citibike-tripdata.csv',\n",
       " '202003-citibike-tripdata.csv',\n",
       " '202004-citibike-tripdata.csv',\n",
       " '202005-citibike-tripdata.csv',\n",
       " '202006-citibike-tripdata.csv']"
      ]
     },
     "execution_count": 17,
     "metadata": {},
     "output_type": "execute_result"
    }
   ],
   "source": [
    "os.listdir()"
   ]
  },
  {
   "cell_type": "code",
   "execution_count": 18,
   "metadata": {
    "hidden": true
   },
   "outputs": [],
   "source": [
    "# import all 2020 files into a list of dataframes\n",
    "dfs_2020 = []\n",
    "for file in os.listdir():\n",
    "    dfs_2020.append(pd.read_csv(file))"
   ]
  },
  {
   "cell_type": "code",
   "execution_count": 19,
   "metadata": {
    "hidden": true
   },
   "outputs": [],
   "source": [
    "# concatenate all dataframes into a single dataframe\n",
    "df_2020 =pd.concat(dfs_2020,ignore_index=True)"
   ]
  },
  {
   "cell_type": "code",
   "execution_count": 20,
   "metadata": {
    "hidden": true
   },
   "outputs": [
    {
     "data": {
      "text/plain": [
       "(7508808, 15)"
      ]
     },
     "execution_count": 20,
     "metadata": {},
     "output_type": "execute_result"
    }
   ],
   "source": [
    "df_2020.shape"
   ]
  },
  {
   "cell_type": "code",
   "execution_count": 21,
   "metadata": {
    "hidden": true
   },
   "outputs": [],
   "source": [
    "# pickle the dataframe for easy re-import\n",
    "df_2020.to_pickle('df_2020.pickle')"
   ]
  },
  {
   "cell_type": "markdown",
   "metadata": {
    "heading_collapsed": true
   },
   "source": [
    "## Data QA & Feature Engineering"
   ]
  },
  {
   "cell_type": "code",
   "execution_count": 34,
   "metadata": {
    "ExecuteTime": {
     "end_time": "2020-08-16T23:26:11.050094Z",
     "start_time": "2020-08-16T23:25:47.750223Z"
    },
    "hidden": true
   },
   "outputs": [],
   "source": [
    "# import pickled file\n",
    "df_2019 = pickle.load(open(\"data/2019/df_2019.pickle\", \"rb\"))\n",
    "df_2020 = pickle.load(open(\"data/2020/df_2020.pickle\", \"rb\"))"
   ]
  },
  {
   "cell_type": "code",
   "execution_count": 38,
   "metadata": {
    "ExecuteTime": {
     "end_time": "2020-08-17T00:02:55.245400Z",
     "start_time": "2020-08-17T00:02:44.299509Z"
    },
    "hidden": true,
    "scrolled": true
   },
   "outputs": [],
   "source": [
    "# concat the two files\n",
    "df_concat = pd.concat([df_2019, df_2020], axis=0)"
   ]
  },
  {
   "cell_type": "code",
   "execution_count": 36,
   "metadata": {
    "ExecuteTime": {
     "end_time": "2020-08-16T23:35:26.269754Z",
     "start_time": "2020-08-16T23:34:38.481264Z"
    },
    "hidden": true
   },
   "outputs": [],
   "source": [
    "# pickle the final file\n",
    "df_concat.to_pickle('data/df_concat.pickle')"
   ]
  },
  {
   "cell_type": "code",
   "execution_count": 42,
   "metadata": {
    "ExecuteTime": {
     "end_time": "2020-08-17T00:03:11.958697Z",
     "start_time": "2020-08-17T00:03:11.925785Z"
    },
    "hidden": true,
    "scrolled": false
   },
   "outputs": [
    {
     "data": {
      "text/plain": [
       "tripduration                 int64\n",
       "starttime                   object\n",
       "stoptime                    object\n",
       "start station id           float64\n",
       "start station name          object\n",
       "start station latitude     float64\n",
       "start station longitude    float64\n",
       "end station id             float64\n",
       "end station name            object\n",
       "end station latitude       float64\n",
       "end station longitude      float64\n",
       "bikeid                       int64\n",
       "usertype                    object\n",
       "birth year                   int64\n",
       "gender                       int64\n",
       "dtype: object"
      ]
     },
     "execution_count": 42,
     "metadata": {},
     "output_type": "execute_result"
    }
   ],
   "source": [
    "# original datatypes\n",
    "df_concat.dtypes"
   ]
  },
  {
   "cell_type": "markdown",
   "metadata": {
    "hidden": true
   },
   "source": [
    "`starttime` and `stoptime` are current set as strings so converting them to datetime."
   ]
  },
  {
   "cell_type": "code",
   "execution_count": 43,
   "metadata": {
    "ExecuteTime": {
     "end_time": "2020-08-17T00:04:10.970478Z",
     "start_time": "2020-08-17T00:03:33.950215Z"
    },
    "hidden": true
   },
   "outputs": [],
   "source": [
    "df_concat['starttime'] = df_concat['starttime'].astype('datetime64')\n",
    "df_concat['stoptime'] =df_concat['stoptime'].astype('datetime64')"
   ]
  },
  {
   "cell_type": "markdown",
   "metadata": {
    "hidden": true
   },
   "source": [
    "### Assess summary statistics & look for null values"
   ]
  },
  {
   "cell_type": "code",
   "execution_count": 44,
   "metadata": {
    "ExecuteTime": {
     "end_time": "2020-08-17T00:26:35.096335Z",
     "start_time": "2020-08-17T00:26:29.324380Z"
    },
    "hidden": true
   },
   "outputs": [
    {
     "data": {
      "text/plain": [
       "tripduration                0\n",
       "starttime                   0\n",
       "stoptime                    0\n",
       "start station id           37\n",
       "start station name         37\n",
       "start station latitude      0\n",
       "start station longitude     0\n",
       "end station id             37\n",
       "end station name           37\n",
       "end station latitude        0\n",
       "end station longitude       0\n",
       "bikeid                      0\n",
       "usertype                    0\n",
       "birth year                  0\n",
       "gender                      0\n",
       "dtype: int64"
      ]
     },
     "execution_count": 44,
     "metadata": {},
     "output_type": "execute_result"
    }
   ],
   "source": [
    "df_concat.isna().sum()"
   ]
  },
  {
   "cell_type": "markdown",
   "metadata": {
    "hidden": true
   },
   "source": [
    "Check that the same 37 records are null across the four columns."
   ]
  },
  {
   "cell_type": "code",
   "execution_count": 45,
   "metadata": {
    "ExecuteTime": {
     "end_time": "2020-08-17T00:26:40.154281Z",
     "start_time": "2020-08-17T00:26:38.421347Z"
    },
    "hidden": true
   },
   "outputs": [
    {
     "data": {
      "text/plain": [
       "(37, 15)"
      ]
     },
     "execution_count": 45,
     "metadata": {},
     "output_type": "execute_result"
    }
   ],
   "source": [
    "df_concat[(df_concat['start station id'].isna()==1) & \\\n",
    "        (df_concat['start station name'].isna()==1) &\\\n",
    "       (df_concat['end station id'].isna()==1) & \\\n",
    "       (df_concat['end station name'].isna()==1)].shape"
   ]
  },
  {
   "cell_type": "markdown",
   "metadata": {
    "hidden": true
   },
   "source": [
    "Drop these 37 rows. Should end up with 9,054,981 (9,055,018-37) rows."
   ]
  },
  {
   "cell_type": "code",
   "execution_count": 46,
   "metadata": {
    "ExecuteTime": {
     "end_time": "2020-08-17T00:27:07.042389Z",
     "start_time": "2020-08-17T00:27:00.242212Z"
    },
    "hidden": true
   },
   "outputs": [],
   "source": [
    "df_concat=df_concat.dropna(how='any')"
   ]
  },
  {
   "cell_type": "code",
   "execution_count": 47,
   "metadata": {
    "ExecuteTime": {
     "end_time": "2020-08-17T00:27:07.057350Z",
     "start_time": "2020-08-17T00:27:07.045382Z"
    },
    "hidden": true
   },
   "outputs": [
    {
     "data": {
      "text/plain": [
       "(16563789, 15)"
      ]
     },
     "execution_count": 47,
     "metadata": {},
     "output_type": "execute_result"
    }
   ],
   "source": [
    "df_concat.shape"
   ]
  },
  {
   "cell_type": "markdown",
   "metadata": {
    "hidden": true
   },
   "source": [
    "Let's look at the summary statics for any odd values."
   ]
  },
  {
   "cell_type": "code",
   "execution_count": 48,
   "metadata": {
    "ExecuteTime": {
     "end_time": "2020-08-17T00:27:38.369025Z",
     "start_time": "2020-08-17T00:27:30.254524Z"
    },
    "hidden": true,
    "scrolled": true
   },
   "outputs": [
    {
     "data": {
      "text/html": [
       "<div>\n",
       "<style scoped>\n",
       "    .dataframe tbody tr th:only-of-type {\n",
       "        vertical-align: middle;\n",
       "    }\n",
       "\n",
       "    .dataframe tbody tr th {\n",
       "        vertical-align: top;\n",
       "    }\n",
       "\n",
       "    .dataframe thead th {\n",
       "        text-align: right;\n",
       "    }\n",
       "</style>\n",
       "<table border=\"1\" class=\"dataframe\">\n",
       "  <thead>\n",
       "    <tr style=\"text-align: right;\">\n",
       "      <th></th>\n",
       "      <th>tripduration</th>\n",
       "      <th>start station id</th>\n",
       "      <th>start station latitude</th>\n",
       "      <th>start station longitude</th>\n",
       "      <th>end station id</th>\n",
       "      <th>end station latitude</th>\n",
       "      <th>end station longitude</th>\n",
       "      <th>bikeid</th>\n",
       "      <th>birth year</th>\n",
       "      <th>gender</th>\n",
       "    </tr>\n",
       "  </thead>\n",
       "  <tbody>\n",
       "    <tr>\n",
       "      <th>count</th>\n",
       "      <td>16,563,789.0</td>\n",
       "      <td>16,563,789.0</td>\n",
       "      <td>16,563,789.0</td>\n",
       "      <td>16,563,789.0</td>\n",
       "      <td>16,563,789.0</td>\n",
       "      <td>16,563,789.0</td>\n",
       "      <td>16,563,789.0</td>\n",
       "      <td>16,563,789.0</td>\n",
       "      <td>16,563,789.0</td>\n",
       "      <td>16,563,789.0</td>\n",
       "    </tr>\n",
       "    <tr>\n",
       "      <th>mean</th>\n",
       "      <td>1,129.0492732067523</td>\n",
       "      <td>1,774.977172493564</td>\n",
       "      <td>40.73789022657857</td>\n",
       "      <td>-73.98036140550202</td>\n",
       "      <td>1,767.1710170299802</td>\n",
       "      <td>40.737615753723</td>\n",
       "      <td>-73.98056440876155</td>\n",
       "      <td>30,659.11244178491</td>\n",
       "      <td>1,980.0675752993473</td>\n",
       "      <td>1.1665628558779637</td>\n",
       "    </tr>\n",
       "    <tr>\n",
       "      <th>std</th>\n",
       "      <td>11,830.35666917819</td>\n",
       "      <td>1,499.2306752440895</td>\n",
       "      <td>0.031875860928880694</td>\n",
       "      <td>0.020689292459692005</td>\n",
       "      <td>1,499.336081153693</td>\n",
       "      <td>0.031746533753056354</td>\n",
       "      <td>0.020746400362384846</td>\n",
       "      <td>7,917.478392640739</td>\n",
       "      <td>12.196159035451352</td>\n",
       "      <td>0.5529663897181637</td>\n",
       "    </tr>\n",
       "    <tr>\n",
       "      <th>min</th>\n",
       "      <td>61.0</td>\n",
       "      <td>72.0</td>\n",
       "      <td>40.65539977447831</td>\n",
       "      <td>-74.02535319328308</td>\n",
       "      <td>72.0</td>\n",
       "      <td>40.65539977447831</td>\n",
       "      <td>-74.07126188278198</td>\n",
       "      <td>14,529.0</td>\n",
       "      <td>1,857.0</td>\n",
       "      <td>0.0</td>\n",
       "    </tr>\n",
       "    <tr>\n",
       "      <th>25%</th>\n",
       "      <td>373.0</td>\n",
       "      <td>393.0</td>\n",
       "      <td>40.71739973</td>\n",
       "      <td>-73.99456405</td>\n",
       "      <td>391.0</td>\n",
       "      <td>40.7172274</td>\n",
       "      <td>-73.9946848154068</td>\n",
       "      <td>26,345.0</td>\n",
       "      <td>1,969.0</td>\n",
       "      <td>1.0</td>\n",
       "    </tr>\n",
       "    <tr>\n",
       "      <th>50%</th>\n",
       "      <td>663.0</td>\n",
       "      <td>525.0</td>\n",
       "      <td>40.73827428</td>\n",
       "      <td>-73.98338988</td>\n",
       "      <td>525.0</td>\n",
       "      <td>40.73804614248277</td>\n",
       "      <td>-73.98379855</td>\n",
       "      <td>31,937.0</td>\n",
       "      <td>1,983.0</td>\n",
       "      <td>1.0</td>\n",
       "    </tr>\n",
       "    <tr>\n",
       "      <th>75%</th>\n",
       "      <td>1,224.0</td>\n",
       "      <td>3,341.0</td>\n",
       "      <td>40.75992262</td>\n",
       "      <td>-73.96804379999999</td>\n",
       "      <td>3,341.0</td>\n",
       "      <td>40.75934501</td>\n",
       "      <td>-73.968087</td>\n",
       "      <td>36,139.0</td>\n",
       "      <td>1,990.0</td>\n",
       "      <td>2.0</td>\n",
       "    </tr>\n",
       "    <tr>\n",
       "      <th>max</th>\n",
       "      <td>3,786,187.0</td>\n",
       "      <td>4,038.0</td>\n",
       "      <td>40.8428422</td>\n",
       "      <td>-73.89795</td>\n",
       "      <td>4,038.0</td>\n",
       "      <td>40.8428422</td>\n",
       "      <td>-73.89795</td>\n",
       "      <td>44,542.0</td>\n",
       "      <td>2,004.0</td>\n",
       "      <td>2.0</td>\n",
       "    </tr>\n",
       "  </tbody>\n",
       "</table>\n",
       "</div>"
      ],
      "text/plain": [
       "             tripduration    start station id  start station latitude  \\\n",
       "count        16,563,789.0        16,563,789.0            16,563,789.0   \n",
       "mean  1,129.0492732067523  1,774.977172493564       40.73789022657857   \n",
       "std    11,830.35666917819 1,499.2306752440895    0.031875860928880694   \n",
       "min                  61.0                72.0       40.65539977447831   \n",
       "25%                 373.0               393.0             40.71739973   \n",
       "50%                 663.0               525.0             40.73827428   \n",
       "75%               1,224.0             3,341.0             40.75992262   \n",
       "max           3,786,187.0             4,038.0              40.8428422   \n",
       "\n",
       "       start station longitude      end station id  end station latitude  \\\n",
       "count             16,563,789.0        16,563,789.0          16,563,789.0   \n",
       "mean        -73.98036140550202 1,767.1710170299802       40.737615753723   \n",
       "std       0.020689292459692005  1,499.336081153693  0.031746533753056354   \n",
       "min         -74.02535319328308                72.0     40.65539977447831   \n",
       "25%               -73.99456405               391.0            40.7172274   \n",
       "50%               -73.98338988               525.0     40.73804614248277   \n",
       "75%         -73.96804379999999             3,341.0           40.75934501   \n",
       "max                  -73.89795             4,038.0            40.8428422   \n",
       "\n",
       "       end station longitude             bikeid          birth year  \\\n",
       "count           16,563,789.0       16,563,789.0        16,563,789.0   \n",
       "mean      -73.98056440876155 30,659.11244178491 1,980.0675752993473   \n",
       "std     0.020746400362384846 7,917.478392640739  12.196159035451352   \n",
       "min       -74.07126188278198           14,529.0             1,857.0   \n",
       "25%        -73.9946848154068           26,345.0             1,969.0   \n",
       "50%             -73.98379855           31,937.0             1,983.0   \n",
       "75%               -73.968087           36,139.0             1,990.0   \n",
       "max                -73.89795           44,542.0             2,004.0   \n",
       "\n",
       "                  gender  \n",
       "count       16,563,789.0  \n",
       "mean  1.1665628558779637  \n",
       "std   0.5529663897181637  \n",
       "min                  0.0  \n",
       "25%                  1.0  \n",
       "50%                  1.0  \n",
       "75%                  2.0  \n",
       "max                  2.0  "
      ]
     },
     "execution_count": 48,
     "metadata": {},
     "output_type": "execute_result"
    }
   ],
   "source": [
    "df_concat.describe()"
   ]
  },
  {
   "cell_type": "markdown",
   "metadata": {
    "hidden": true
   },
   "source": [
    "There are ages (>100) that do not make sense.\n",
    "\n",
    "There are trip durations that are extremely long (spanning several days).\n",
    "\n",
    "Let's make sure to remove these outliers."
   ]
  },
  {
   "cell_type": "markdown",
   "metadata": {
    "hidden": true
   },
   "source": [
    "### Create features\n",
    "\n",
    "\n",
    "<i>New features:</i>\n",
    "1. `tripduration_minutes`\n",
    "2. `starttime_year`\n",
    "3. `starttime_month`\n",
    "4. `age`"
   ]
  },
  {
   "cell_type": "markdown",
   "metadata": {
    "hidden": true
   },
   "source": [
    "Since `tripduration` is in seconds, let's create another column that shows duration in minutes."
   ]
  },
  {
   "cell_type": "code",
   "execution_count": 49,
   "metadata": {
    "ExecuteTime": {
     "end_time": "2020-08-17T00:53:00.786073Z",
     "start_time": "2020-08-17T00:53:00.462936Z"
    },
    "hidden": true
   },
   "outputs": [],
   "source": [
    "df_concat['tripduration_minutes'] = df_concat['tripduration']/60\n",
    "df_concat['tripduration_minutes'] = df_concat['tripduration']/60"
   ]
  },
  {
   "cell_type": "markdown",
   "metadata": {
    "hidden": true
   },
   "source": [
    "It may also be helpful to extract the year & month of each starttimes."
   ]
  },
  {
   "cell_type": "code",
   "execution_count": 50,
   "metadata": {
    "ExecuteTime": {
     "end_time": "2020-08-17T00:53:27.481643Z",
     "start_time": "2020-08-17T00:53:24.890572Z"
    },
    "hidden": true
   },
   "outputs": [],
   "source": [
    "df_concat['starttime_year'] = pd.DatetimeIndex(df_concat['starttime']).year\n",
    "df_concat['starttime_month'] = pd.DatetimeIndex(df_concat['starttime']).month"
   ]
  },
  {
   "cell_type": "markdown",
   "metadata": {
    "hidden": true
   },
   "source": [
    "Create `age` from `birth year`."
   ]
  },
  {
   "cell_type": "code",
   "execution_count": 51,
   "metadata": {
    "ExecuteTime": {
     "end_time": "2020-08-17T00:53:57.903298Z",
     "start_time": "2020-08-17T00:53:57.798579Z"
    },
    "hidden": true
   },
   "outputs": [],
   "source": [
    "df_concat['age'] = df_concat['starttime_year'] - df_concat['birth year']"
   ]
  },
  {
   "cell_type": "code",
   "execution_count": 54,
   "metadata": {
    "ExecuteTime": {
     "end_time": "2020-08-17T00:54:17.389408Z",
     "start_time": "2020-08-17T00:54:17.147056Z"
    },
    "hidden": true
   },
   "outputs": [
    {
     "data": {
      "text/html": [
       "<div>\n",
       "<style scoped>\n",
       "    .dataframe tbody tr th:only-of-type {\n",
       "        vertical-align: middle;\n",
       "    }\n",
       "\n",
       "    .dataframe tbody tr th {\n",
       "        vertical-align: top;\n",
       "    }\n",
       "\n",
       "    .dataframe thead th {\n",
       "        text-align: right;\n",
       "    }\n",
       "</style>\n",
       "<table border=\"1\" class=\"dataframe\">\n",
       "  <thead>\n",
       "    <tr style=\"text-align: right;\">\n",
       "      <th></th>\n",
       "      <th>age</th>\n",
       "      <th>starttime_year</th>\n",
       "      <th>birth year</th>\n",
       "    </tr>\n",
       "  </thead>\n",
       "  <tbody>\n",
       "    <tr>\n",
       "      <th>0</th>\n",
       "      <td>48</td>\n",
       "      <td>2019</td>\n",
       "      <td>1971</td>\n",
       "    </tr>\n",
       "    <tr>\n",
       "      <th>1</th>\n",
       "      <td>55</td>\n",
       "      <td>2019</td>\n",
       "      <td>1964</td>\n",
       "    </tr>\n",
       "    <tr>\n",
       "      <th>2</th>\n",
       "      <td>32</td>\n",
       "      <td>2019</td>\n",
       "      <td>1987</td>\n",
       "    </tr>\n",
       "    <tr>\n",
       "      <th>3</th>\n",
       "      <td>29</td>\n",
       "      <td>2019</td>\n",
       "      <td>1990</td>\n",
       "    </tr>\n",
       "    <tr>\n",
       "      <th>4</th>\n",
       "      <td>40</td>\n",
       "      <td>2019</td>\n",
       "      <td>1979</td>\n",
       "    </tr>\n",
       "  </tbody>\n",
       "</table>\n",
       "</div>"
      ],
      "text/plain": [
       "   age  starttime_year  birth year\n",
       "0   48            2019        1971\n",
       "1   55            2019        1964\n",
       "2   32            2019        1987\n",
       "3   29            2019        1990\n",
       "4   40            2019        1979"
      ]
     },
     "execution_count": 54,
     "metadata": {},
     "output_type": "execute_result"
    }
   ],
   "source": [
    "df_concat[['age','starttime_year', 'birth year']].head()"
   ]
  },
  {
   "cell_type": "markdown",
   "metadata": {
    "hidden": true
   },
   "source": [
    "Drop `birth year` column since we now have age."
   ]
  },
  {
   "cell_type": "code",
   "execution_count": 57,
   "metadata": {
    "ExecuteTime": {
     "end_time": "2020-08-17T01:00:20.777559Z",
     "start_time": "2020-08-17T01:00:20.771575Z"
    },
    "hidden": true
   },
   "outputs": [
    {
     "data": {
      "text/plain": [
       "(16563789, 19)"
      ]
     },
     "execution_count": 57,
     "metadata": {},
     "output_type": "execute_result"
    }
   ],
   "source": [
    "df_concat.shape"
   ]
  },
  {
   "cell_type": "code",
   "execution_count": 58,
   "metadata": {
    "ExecuteTime": {
     "end_time": "2020-08-17T01:00:30.082710Z",
     "start_time": "2020-08-17T01:00:28.258559Z"
    },
    "hidden": true
   },
   "outputs": [],
   "source": [
    "df_concat.drop(columns=['birth year'], inplace=True)"
   ]
  },
  {
   "cell_type": "code",
   "execution_count": 59,
   "metadata": {
    "ExecuteTime": {
     "end_time": "2020-08-17T01:00:37.684003Z",
     "start_time": "2020-08-17T01:00:37.674032Z"
    },
    "hidden": true
   },
   "outputs": [
    {
     "data": {
      "text/plain": [
       "Index(['tripduration', 'starttime', 'stoptime', 'start station id',\n",
       "       'start station name', 'start station latitude',\n",
       "       'start station longitude', 'end station id', 'end station name',\n",
       "       'end station latitude', 'end station longitude', 'bikeid', 'usertype',\n",
       "       'gender', 'tripduration_minutes', 'starttime_year', 'starttime_month',\n",
       "       'age'],\n",
       "      dtype='object')"
      ]
     },
     "execution_count": 59,
     "metadata": {},
     "output_type": "execute_result"
    }
   ],
   "source": [
    "df_concat.columns"
   ]
  },
  {
   "cell_type": "markdown",
   "metadata": {
    "hidden": true
   },
   "source": [
    "0.05% of the data are riders older than 100. Since this is a small group and very unlikely that 100+ ages are accurate, let's drop those rows."
   ]
  },
  {
   "cell_type": "code",
   "execution_count": 60,
   "metadata": {
    "ExecuteTime": {
     "end_time": "2020-08-17T01:03:18.557906Z",
     "start_time": "2020-08-17T01:03:18.472135Z"
    },
    "hidden": true
   },
   "outputs": [
    {
     "data": {
      "text/plain": [
       "0.0005309171711858923"
      ]
     },
     "execution_count": 60,
     "metadata": {},
     "output_type": "execute_result"
    }
   ],
   "source": [
    "df_concat[df_concat['age']>100].shape[0]/df_concat.shape[0]"
   ]
  },
  {
   "cell_type": "code",
   "execution_count": 61,
   "metadata": {
    "ExecuteTime": {
     "end_time": "2020-08-17T01:03:30.163871Z",
     "start_time": "2020-08-17T01:03:27.740354Z"
    },
    "hidden": true
   },
   "outputs": [],
   "source": [
    "df_concat=df_concat[df_concat['age']<=100]"
   ]
  },
  {
   "cell_type": "code",
   "execution_count": 62,
   "metadata": {
    "ExecuteTime": {
     "end_time": "2020-08-17T01:03:35.462827Z",
     "start_time": "2020-08-17T01:03:35.431912Z"
    },
    "hidden": true
   },
   "outputs": [
    {
     "data": {
      "text/html": [
       "<div>\n",
       "<style scoped>\n",
       "    .dataframe tbody tr th:only-of-type {\n",
       "        vertical-align: middle;\n",
       "    }\n",
       "\n",
       "    .dataframe tbody tr th {\n",
       "        vertical-align: top;\n",
       "    }\n",
       "\n",
       "    .dataframe thead th {\n",
       "        text-align: right;\n",
       "    }\n",
       "</style>\n",
       "<table border=\"1\" class=\"dataframe\">\n",
       "  <thead>\n",
       "    <tr style=\"text-align: right;\">\n",
       "      <th></th>\n",
       "      <th>tripduration</th>\n",
       "      <th>starttime</th>\n",
       "      <th>stoptime</th>\n",
       "      <th>start station id</th>\n",
       "      <th>start station name</th>\n",
       "      <th>start station latitude</th>\n",
       "      <th>start station longitude</th>\n",
       "      <th>end station id</th>\n",
       "      <th>end station name</th>\n",
       "      <th>end station latitude</th>\n",
       "      <th>end station longitude</th>\n",
       "      <th>bikeid</th>\n",
       "      <th>usertype</th>\n",
       "      <th>gender</th>\n",
       "      <th>tripduration_minutes</th>\n",
       "      <th>starttime_year</th>\n",
       "      <th>starttime_month</th>\n",
       "      <th>age</th>\n",
       "    </tr>\n",
       "  </thead>\n",
       "  <tbody>\n",
       "    <tr>\n",
       "      <th>0</th>\n",
       "      <td>320</td>\n",
       "      <td>2019-01-01 00:01:47.401</td>\n",
       "      <td>2019-01-01 00:07:07.581</td>\n",
       "      <td>3,160.0</td>\n",
       "      <td>Central Park West &amp; W 76 St</td>\n",
       "      <td>40.77896784</td>\n",
       "      <td>-73.97374737</td>\n",
       "      <td>3,283.0</td>\n",
       "      <td>W 89 St &amp; Columbus Ave</td>\n",
       "      <td>40.7882213</td>\n",
       "      <td>-73.97041561</td>\n",
       "      <td>15839</td>\n",
       "      <td>Subscriber</td>\n",
       "      <td>1</td>\n",
       "      <td>5.333333333333333</td>\n",
       "      <td>2019</td>\n",
       "      <td>1</td>\n",
       "      <td>48</td>\n",
       "    </tr>\n",
       "    <tr>\n",
       "      <th>1</th>\n",
       "      <td>316</td>\n",
       "      <td>2019-01-01 00:04:43.736</td>\n",
       "      <td>2019-01-01 00:10:00.608</td>\n",
       "      <td>519.0</td>\n",
       "      <td>Pershing Square North</td>\n",
       "      <td>40.751872999999996</td>\n",
       "      <td>-73.97770600000001</td>\n",
       "      <td>518.0</td>\n",
       "      <td>E 39 St &amp; 2 Ave</td>\n",
       "      <td>40.74780373</td>\n",
       "      <td>-73.97344190000001</td>\n",
       "      <td>32723</td>\n",
       "      <td>Subscriber</td>\n",
       "      <td>1</td>\n",
       "      <td>5.266666666666667</td>\n",
       "      <td>2019</td>\n",
       "      <td>1</td>\n",
       "      <td>55</td>\n",
       "    </tr>\n",
       "    <tr>\n",
       "      <th>2</th>\n",
       "      <td>591</td>\n",
       "      <td>2019-01-01 00:06:03.997</td>\n",
       "      <td>2019-01-01 00:15:55.438</td>\n",
       "      <td>3,171.0</td>\n",
       "      <td>Amsterdam Ave &amp; W 82 St</td>\n",
       "      <td>40.78524672</td>\n",
       "      <td>-73.97667321</td>\n",
       "      <td>3,154.0</td>\n",
       "      <td>E 77 St &amp; 3 Ave</td>\n",
       "      <td>40.77314236</td>\n",
       "      <td>-73.95856158</td>\n",
       "      <td>27451</td>\n",
       "      <td>Subscriber</td>\n",
       "      <td>1</td>\n",
       "      <td>9.85</td>\n",
       "      <td>2019</td>\n",
       "      <td>1</td>\n",
       "      <td>32</td>\n",
       "    </tr>\n",
       "    <tr>\n",
       "      <th>3</th>\n",
       "      <td>2719</td>\n",
       "      <td>2019-01-01 00:07:03.545</td>\n",
       "      <td>2019-01-01 00:52:22.650</td>\n",
       "      <td>504.0</td>\n",
       "      <td>1 Ave &amp; E 16 St</td>\n",
       "      <td>40.73221853</td>\n",
       "      <td>-73.98165557</td>\n",
       "      <td>3,709.0</td>\n",
       "      <td>W 15 St &amp; 6 Ave</td>\n",
       "      <td>40.73804614248277</td>\n",
       "      <td>-73.99642959237099</td>\n",
       "      <td>21579</td>\n",
       "      <td>Subscriber</td>\n",
       "      <td>1</td>\n",
       "      <td>45.31666666666667</td>\n",
       "      <td>2019</td>\n",
       "      <td>1</td>\n",
       "      <td>29</td>\n",
       "    </tr>\n",
       "    <tr>\n",
       "      <th>4</th>\n",
       "      <td>303</td>\n",
       "      <td>2019-01-01 00:07:35.945</td>\n",
       "      <td>2019-01-01 00:12:39.502</td>\n",
       "      <td>229.0</td>\n",
       "      <td>Great Jones St</td>\n",
       "      <td>40.72743423</td>\n",
       "      <td>-73.99379025</td>\n",
       "      <td>503.0</td>\n",
       "      <td>E 20 St &amp; Park Ave</td>\n",
       "      <td>40.73827428</td>\n",
       "      <td>-73.98751968</td>\n",
       "      <td>35379</td>\n",
       "      <td>Subscriber</td>\n",
       "      <td>1</td>\n",
       "      <td>5.05</td>\n",
       "      <td>2019</td>\n",
       "      <td>1</td>\n",
       "      <td>40</td>\n",
       "    </tr>\n",
       "  </tbody>\n",
       "</table>\n",
       "</div>"
      ],
      "text/plain": [
       "   tripduration               starttime                stoptime  \\\n",
       "0           320 2019-01-01 00:01:47.401 2019-01-01 00:07:07.581   \n",
       "1           316 2019-01-01 00:04:43.736 2019-01-01 00:10:00.608   \n",
       "2           591 2019-01-01 00:06:03.997 2019-01-01 00:15:55.438   \n",
       "3          2719 2019-01-01 00:07:03.545 2019-01-01 00:52:22.650   \n",
       "4           303 2019-01-01 00:07:35.945 2019-01-01 00:12:39.502   \n",
       "\n",
       "   start station id           start station name  start station latitude  \\\n",
       "0           3,160.0  Central Park West & W 76 St             40.77896784   \n",
       "1             519.0        Pershing Square North      40.751872999999996   \n",
       "2           3,171.0      Amsterdam Ave & W 82 St             40.78524672   \n",
       "3             504.0              1 Ave & E 16 St             40.73221853   \n",
       "4             229.0               Great Jones St             40.72743423   \n",
       "\n",
       "   start station longitude  end station id        end station name  \\\n",
       "0             -73.97374737         3,283.0  W 89 St & Columbus Ave   \n",
       "1       -73.97770600000001           518.0         E 39 St & 2 Ave   \n",
       "2             -73.97667321         3,154.0         E 77 St & 3 Ave   \n",
       "3             -73.98165557         3,709.0         W 15 St & 6 Ave   \n",
       "4             -73.99379025           503.0      E 20 St & Park Ave   \n",
       "\n",
       "   end station latitude  end station longitude  bikeid    usertype  gender  \\\n",
       "0            40.7882213           -73.97041561   15839  Subscriber       1   \n",
       "1           40.74780373     -73.97344190000001   32723  Subscriber       1   \n",
       "2           40.77314236           -73.95856158   27451  Subscriber       1   \n",
       "3     40.73804614248277     -73.99642959237099   21579  Subscriber       1   \n",
       "4           40.73827428           -73.98751968   35379  Subscriber       1   \n",
       "\n",
       "   tripduration_minutes  starttime_year  starttime_month  age  \n",
       "0     5.333333333333333            2019                1   48  \n",
       "1     5.266666666666667            2019                1   55  \n",
       "2                  9.85            2019                1   32  \n",
       "3     45.31666666666667            2019                1   29  \n",
       "4                  5.05            2019                1   40  "
      ]
     },
     "execution_count": 62,
     "metadata": {},
     "output_type": "execute_result"
    }
   ],
   "source": [
    "df_concat.head()"
   ]
  },
  {
   "cell_type": "markdown",
   "metadata": {
    "hidden": true
   },
   "source": [
    "Save the final dataframes:"
   ]
  },
  {
   "cell_type": "code",
   "execution_count": 63,
   "metadata": {
    "ExecuteTime": {
     "end_time": "2020-08-17T01:04:33.555441Z",
     "start_time": "2020-08-17T01:04:24.195466Z"
    },
    "hidden": true
   },
   "outputs": [],
   "source": [
    "# pickle the final, clean dataframe\n",
    "df_concat.to_pickle('data/df_final.pickle')"
   ]
  },
  {
   "cell_type": "markdown",
   "metadata": {},
   "source": [
    "## Data Analysis"
   ]
  },
  {
   "cell_type": "code",
   "execution_count": 2,
   "metadata": {
    "ExecuteTime": {
     "end_time": "2020-08-23T19:11:55.731771Z",
     "start_time": "2020-08-23T19:11:48.212867Z"
    }
   },
   "outputs": [],
   "source": [
    "# import pickled dataframes\n",
    "df_final = pickle.load(open(\"data/df_final.pickle\", \"rb\"))"
   ]
  },
  {
   "cell_type": "code",
   "execution_count": 3,
   "metadata": {
    "ExecuteTime": {
     "end_time": "2020-08-22T13:23:53.845209Z",
     "start_time": "2020-08-22T13:23:53.838227Z"
    }
   },
   "outputs": [
    {
     "data": {
      "text/plain": [
       "(16554995, 18)"
      ]
     },
     "execution_count": 3,
     "metadata": {},
     "output_type": "execute_result"
    }
   ],
   "source": [
    "df_final.shape"
   ]
  },
  {
   "cell_type": "code",
   "execution_count": 4,
   "metadata": {
    "ExecuteTime": {
     "end_time": "2020-08-22T13:23:54.359834Z",
     "start_time": "2020-08-22T13:23:54.354849Z"
    },
    "scrolled": false
   },
   "outputs": [
    {
     "name": "stdout",
     "output_type": "stream",
     "text": [
      "tripduration\n",
      "starttime\n",
      "stoptime\n",
      "start station id\n",
      "start station name\n",
      "start station latitude\n",
      "start station longitude\n",
      "end station id\n",
      "end station name\n",
      "end station latitude\n",
      "end station longitude\n",
      "bikeid\n",
      "usertype\n",
      "gender\n",
      "tripduration_minutes\n",
      "starttime_year\n",
      "starttime_month\n",
      "age\n"
     ]
    }
   ],
   "source": [
    "for c in df_final.columns:\n",
    "    print(c)"
   ]
  },
  {
   "cell_type": "markdown",
   "metadata": {},
   "source": [
    "<u><b> Questions: </b></u>\n",
    "\n",
    "1. Who's riding Citibikes during COVID (age, gender)?\n",
    "- Ridership numbers\n",
    "- Duration of trips\n",
    "- How has bike rental behavior changed due to COVID? --> when is the busiest time of day/week, how often & for how long\n",
    "- Were there fewer rentals during COVID? --> statistical comparison test; look at rental count for 2019 and 2020, run a t-test to see if you have significant difference.\n",
    "- Did renters take longer trips during COVID --> t-test on trip duration\n",
    "\n",
    "Lastly, look at revenue change in 2019 vs. 2020."
   ]
  },
  {
   "cell_type": "markdown",
   "metadata": {},
   "source": [
    "### Who's riding Citibikes?"
   ]
  },
  {
   "cell_type": "markdown",
   "metadata": {},
   "source": [
    "<b> Rides by Gender </b>"
   ]
  },
  {
   "cell_type": "code",
   "execution_count": 146,
   "metadata": {
    "ExecuteTime": {
     "end_time": "2020-08-19T01:24:07.404920Z",
     "start_time": "2020-08-19T01:24:03.088430Z"
    }
   },
   "outputs": [
    {
     "data": {
      "image/png": "[encoded data removed]",
      "text/plain": [
       "<Figure size 612x432 with 2 Axes>"
      ]
     },
     "metadata": {},
     "output_type": "display_data"
    }
   ],
   "source": [
    "fig = plt.figure(figsize=(8.5,6))\n",
    "\n",
    "gender_dist_2019=df_final[df_final['starttime_year']==2019][['starttime_year','gender', 'bikeid']].groupby(['starttime_year','gender']).count().reset_index()\n",
    "gender_dist_2020=df_final[df_final['starttime_year']==2020][['starttime_year','gender', 'bikeid']].groupby(['starttime_year','gender']).count().reset_index()\n",
    "labels=['Unknown', 'Male', 'Female']\n",
    "\n",
    "gender_dist_2019_pct=list(round(gender_dist_2019['bikeid']/gender_dist_2019['bikeid'].sum(),2)*100)\n",
    "gender_dist_2020_pct=list(round(gender_dist_2020['bikeid']/gender_dist_2020['bikeid'].sum(),2)*100)\n",
    "\n",
    "ax1 = fig.add_axes([0, 0, .5, .5], aspect=1)\n",
    "ax1.pie(gender_dist_2019_pct, labels=labels, autopct='%1.1f%%')\n",
    "ax1.set_title('Riders by Gender (2019)', fontsize=13)\n",
    "ax2 = fig.add_axes([.5, .0, .5, .5], aspect=1)\n",
    "ax2.pie(gender_dist_2020_pct, labels=labels, autopct='%1.1f%%')\n",
    "ax2.set_title('Riders by Gender (2020)', fontsize=13)\n",
    "\n",
    "plt.show()"
   ]
  },
  {
   "cell_type": "markdown",
   "metadata": {},
   "source": [
    "We see that number of rentals by Male riders decreased by 7%, Female riders increase by 4%, and Unknown increased by 3%. This tells us that a more diverse group of riders are engaging with Citibike in 2020 compared to 2019."
   ]
  },
  {
   "cell_type": "markdown",
   "metadata": {},
   "source": [
    "<b> Rides by User Type </b>"
   ]
  },
  {
   "cell_type": "code",
   "execution_count": 143,
   "metadata": {
    "ExecuteTime": {
     "end_time": "2020-08-19T01:22:53.534765Z",
     "start_time": "2020-08-19T01:22:48.685732Z"
    }
   },
   "outputs": [
    {
     "data": {
      "image/png": "[encoded data removed]",
      "text/plain": [
       "<Figure size 576x432 with 2 Axes>"
      ]
     },
     "metadata": {},
     "output_type": "display_data"
    }
   ],
   "source": [
    "fig = plt.figure(figsize=(8,6))\n",
    "\n",
    "usertype_dist_2019=df_final[df_final['starttime_year']==2019][['starttime_year','usertype', 'bikeid']].groupby(['starttime_year','usertype']).count().reset_index()\n",
    "usertype_dist_2020=df_final[df_final['starttime_year']==2020][['starttime_year','usertype', 'bikeid']].groupby(['starttime_year','usertype']).count().reset_index()\n",
    "usertype_labels=['Customer', 'Subscriber']\n",
    "\n",
    "usertype_dist_2019_pct=list(round(usertype_dist_2019['bikeid']/usertype_dist_2019['bikeid'].sum(),2)*100)\n",
    "usertype_dist_2020_pct=list(round(usertype_dist_2020['bikeid']/usertype_dist_2020['bikeid'].sum(),2)*100)\n",
    "\n",
    "ax1 = fig.add_axes([0, 0, .5, .5], aspect=1)\n",
    "ax1.pie(usertype_dist_2019_pct, labels=usertype_labels, autopct='%1.1f%%')\n",
    "ax1.set_title('Riders by User Type (2019)', fontsize=13)\n",
    "ax2 = fig.add_axes([.5, .0, .5, .5], aspect=1)\n",
    "ax2.pie(usertype_dist_2020_pct, labels=usertype_labels, autopct='%1.1f%%')\n",
    "ax2.set_title('Riders by User Type (2020)', fontsize=13)\n",
    "\n",
    "plt.show()"
   ]
  },
  {
   "cell_type": "markdown",
   "metadata": {},
   "source": [
    "Here, we see that in 2020, there were more rides taken by non-subscribers compared to last year."
   ]
  },
  {
   "cell_type": "markdown",
   "metadata": {},
   "source": [
    "### Ridership Numbers"
   ]
  },
  {
   "cell_type": "markdown",
   "metadata": {},
   "source": [
    "<b> Monthly Citibike Rentals </b>\n",
    "\n",
    "In first two months of 2020, it looked like 2020 was on track to surpass 2019 rental volumes. However, starting March, volumes in 2020 were less than 2019. Specificall, there was a sharp drop between March and April 2020, right when stay at home orders were officially announced for NYC (March 22)."
   ]
  },
  {
   "cell_type": "code",
   "execution_count": 119,
   "metadata": {
    "ExecuteTime": {
     "end_time": "2020-08-20T04:55:14.529905Z",
     "start_time": "2020-08-20T04:55:08.892101Z"
    },
    "scrolled": true
   },
   "outputs": [
    {
     "data": {
      "image/png": "[encoded data removed]",
      "text/plain": [
       "<Figure size 576x360 with 1 Axes>"
      ]
     },
     "metadata": {
      "needs_background": "light"
     },
     "output_type": "display_data"
    }
   ],
   "source": [
    "# create double bar chart\n",
    "ax=df_final[['starttime_year','starttime_month', 'bikeid']].groupby(['starttime_year','starttime_month']).count().reset_index()\\\n",
    ".pivot(index='starttime_month', columns='starttime_year', values='bikeid')\\\n",
    ".plot.bar(title='Monthly Rentals', figsize=(8,5),color=['steelblue', 'darkorange'])\n",
    "\n",
    "# modify the legend\n",
    "handles, labels = ax.get_legend_handles_labels()\n",
    "ax.legend(handles=handles,labels=labels)\n",
    "\n",
    "# set x-axis labels\n",
    "ax.set_xticklabels(labels=['Jan','Feb', 'Mar', 'Apr', 'May', 'Jun'], rotation=0)\n",
    "\n",
    "# set axis titles\n",
    "plt.xlabel('Month')\n",
    "plt.ylabel('Number of Rentals')\n",
    "\n",
    "# create list of y-values\n",
    "y_2019=list(df_final[df_final['starttime_year']==2019][['starttime_year','starttime_month', 'bikeid']].groupby(['starttime_year','starttime_month']).count().reset_index()['bikeid'])\n",
    "y_2020=list(df_final[df_final['starttime_year']==2020][['starttime_year','starttime_month', 'bikeid']].groupby(['starttime_year','starttime_month']).count().reset_index()['bikeid'])\n",
    "\n",
    "# display value for each bar\n",
    "for i, v in enumerate(y_2019):\n",
    "    ax.text(i-.1, v+10000, f'{y_2019[i]:,}', fontsize=10, horizontalalignment='center')\n",
    "    \n",
    "for i, v in enumerate(y_2020):\n",
    "    ax.text(i+.1, v+10000, f'{y_2020[i]:,}', fontsize=10, horizontalalignment='center')"
   ]
  },
  {
   "cell_type": "markdown",
   "metadata": {},
   "source": [
    "  "
   ]
  },
  {
   "cell_type": "markdown",
   "metadata": {},
   "source": [
    "<b> Monthly Rentals - by User Type</b>\n",
    "\n",
    "In general, we see that Customers make up a larger portion of total rentals in 2020 compared to 2019. We see the Customer portion jump considerably between April and May of 2020."
   ]
  },
  {
   "cell_type": "code",
   "execution_count": 58,
   "metadata": {
    "ExecuteTime": {
     "end_time": "2020-08-20T03:54:09.509171Z",
     "start_time": "2020-08-20T03:54:03.463039Z"
    },
    "scrolled": false
   },
   "outputs": [
    {
     "name": "stderr",
     "output_type": "stream",
     "text": [
      "C:\\Users\\Grace\\Anaconda3\\lib\\site-packages\\ipykernel_launcher.py:25: UserWarning:\n",
      "\n",
      "Matplotlib is currently using module://ipykernel.pylab.backend_inline, which is a non-GUI backend, so cannot show the figure.\n",
      "\n"
     ]
    },
    {
     "data": {
      "image/png": "[encoded data removed]",
      "text/plain": [
       "<Figure size 1008x360 with 2 Axes>"
      ]
     },
     "metadata": {
      "needs_background": "light"
     },
     "output_type": "display_data"
    }
   ],
   "source": [
    "fig, ax =plt.subplots(1,2)\n",
    "\n",
    "# 2019 data\n",
    "df_pivot=df_final[df_final['starttime_year']==2019][['starttime_year','starttime_month','bikeid', 'usertype']]\\\n",
    ".groupby(['starttime_year','starttime_month','usertype'])\\\n",
    ".count()\\\n",
    ".reset_index()\\\n",
    ".pivot(index='starttime_month', columns='usertype', values='bikeid')\\\n",
    ".loc[:,['Subscriber','Customer']]\\\n",
    ".plot.bar(stacked=True, color=['steelblue', 'lightsteelblue'], figsize=(14,5), ax=ax[0], title='Monthly Rentals by User Type (2019)')\n",
    "\n",
    "ax[0].set_xticklabels(labels=['Jan','Feb', 'Mar', 'Apr', 'May', 'Jun'], rotation=0)\n",
    "\n",
    "# 2020 data\n",
    "df_pivot=df_final[df_final['starttime_year']==2020][['starttime_year','starttime_month','bikeid', 'usertype']]\\\n",
    ".groupby(['starttime_year','starttime_month','usertype'])\\\n",
    ".count()\\\n",
    ".reset_index()\\\n",
    ".pivot(index='starttime_month', columns='usertype', values='bikeid')\\\n",
    ".loc[:,['Subscriber','Customer']]\\\n",
    ".plot.bar(stacked=True, color=['darkorange', 'peachpuff'], figsize=(14,5), ax=ax[1], title='Monthly Rentals by User Type (2020)')\n",
    "\n",
    "ax[1].set_xticklabels(labels=['Jan','Feb', 'Mar', 'Apr', 'May', 'Jun'], rotation=0)\n",
    "\n",
    "fig.show()"
   ]
  },
  {
   "cell_type": "markdown",
   "metadata": {
    "ExecuteTime": {
     "end_time": "2020-08-20T03:52:35.543357Z",
     "start_time": "2020-08-20T03:52:35.538370Z"
    }
   },
   "source": [
    "<b>Monthly Rentals - by Gender</b>"
   ]
  },
  {
   "cell_type": "code",
   "execution_count": 10,
   "metadata": {
    "ExecuteTime": {
     "end_time": "2020-08-22T13:27:51.466083Z",
     "start_time": "2020-08-22T13:27:45.924893Z"
    }
   },
   "outputs": [
    {
     "name": "stderr",
     "output_type": "stream",
     "text": [
      "C:\\Users\\Grace\\Anaconda3\\lib\\site-packages\\ipykernel_launcher.py:30: UserWarning:\n",
      "\n",
      "Matplotlib is currently using module://ipykernel.pylab.backend_inline, which is a non-GUI backend, so cannot show the figure.\n",
      "\n"
     ]
    },
    {
     "data": {
      "image/png": "[encoded data removed]",
      "text/plain": [
       "<Figure size 1008x360 with 2 Axes>"
      ]
     },
     "metadata": {
      "needs_background": "light"
     },
     "output_type": "display_data"
    }
   ],
   "source": [
    "# try to consolidate this into one graph (double stacked bar graph)\n",
    "fig, ax =plt.subplots(1,2)\n",
    "\n",
    "# plot 2019 data\n",
    "df_pivot=df_final[df_final['starttime_year']==2019][['starttime_year','starttime_month','bikeid', 'gender']]\\\n",
    ".groupby(['starttime_year','starttime_month','gender'])\\\n",
    ".count()\\\n",
    ".reset_index()\\\n",
    ".pivot(index='starttime_month', columns='gender', values='bikeid')\\\n",
    ".loc[:,[0,1,2]]\\\n",
    ".plot.bar(stacked=True, color=['steelblue', 'lightslategrey','lightsteelblue'], figsize=(14,5), ax=ax[0], title='Monthly Rentals by Gender (2019)')\n",
    "# modify the legend\n",
    "ax[0].legend(handles=handles,labels=['Unknown', 'Male', 'Female'])\n",
    "# modify the x-axis labels\n",
    "ax[0].set_xticklabels(labels=['Jan','Feb', 'Mar', 'Apr', 'May', 'Jun'], rotation=0)\n",
    "\n",
    "# plot 2020 data\n",
    "df_pivot=df_final[df_final['starttime_year']==2020][['starttime_year','starttime_month','bikeid', 'gender']]\\\n",
    ".groupby(['starttime_year','starttime_month','gender'])\\\n",
    ".count()\\\n",
    ".reset_index()\\\n",
    ".pivot(index='starttime_month', columns='gender', values='bikeid')\\\n",
    ".loc[:,[0,1,2]]\\\n",
    ".plot.bar(stacked=True, color=['darkorange', 'sandybrown','peachpuff'], figsize=(14,5), ax=ax[1], title='Monthly Rentals by Gender (2020)')\n",
    "# modify the legend\n",
    "ax[1].legend(handles=handles,labels=['Unknown', 'Male', 'Female'])\n",
    "# modiify the x-axis labels\n",
    "ax[1].set_xticklabels(labels=['Jan','Feb', 'Mar', 'Apr', 'May', 'Jun'], rotation=0)\n",
    "\n",
    "fig.show()"
   ]
  },
  {
   "cell_type": "markdown",
   "metadata": {},
   "source": [
    "<b>Average Number of Rentals by Day of Week</b>"
   ]
  },
  {
   "cell_type": "code",
   "execution_count": 11,
   "metadata": {
    "ExecuteTime": {
     "end_time": "2020-08-22T13:29:21.557190Z",
     "start_time": "2020-08-22T13:29:20.066177Z"
    }
   },
   "outputs": [],
   "source": [
    "# create dayofweek feature (0=Monday, 6=Sunday)\n",
    "df_final['starttime_dayofweek']=df_final['starttime'].dt.dayofweek"
   ]
  },
  {
   "cell_type": "code",
   "execution_count": 13,
   "metadata": {
    "ExecuteTime": {
     "end_time": "2020-08-22T13:30:37.603305Z",
     "start_time": "2020-08-22T13:30:36.204048Z"
    }
   },
   "outputs": [],
   "source": [
    "# create week feature \n",
    "df_final['starttime_week']=df_final['starttime'].dt.week"
   ]
  },
  {
   "cell_type": "code",
   "execution_count": 135,
   "metadata": {
    "ExecuteTime": {
     "end_time": "2020-08-20T05:35:51.289669Z",
     "start_time": "2020-08-20T05:35:51.021956Z"
    }
   },
   "outputs": [
    {
     "data": {
      "text/plain": [
       "2    2506351\n",
       "1    2433420\n",
       "4    2400498\n",
       "5    2373975\n",
       "3    2348306\n",
       "0    2256554\n",
       "6    2235891\n",
       "Name: starttime_dayofweek, dtype: int64"
      ]
     },
     "execution_count": 135,
     "metadata": {},
     "output_type": "execute_result"
    }
   ],
   "source": [
    "# wed, tue, fri, sat, thur, mon, sun\n",
    "df_final['starttime_dayofweek'].value_counts()"
   ]
  },
  {
   "cell_type": "code",
   "execution_count": 133,
   "metadata": {
    "ExecuteTime": {
     "end_time": "2020-08-20T05:34:25.701625Z",
     "start_time": "2020-08-20T05:34:24.015215Z"
    }
   },
   "outputs": [
    {
     "data": {
      "text/html": [
       "<div>\n",
       "<style scoped>\n",
       "    .dataframe tbody tr th:only-of-type {\n",
       "        vertical-align: middle;\n",
       "    }\n",
       "\n",
       "    .dataframe tbody tr th {\n",
       "        vertical-align: top;\n",
       "    }\n",
       "\n",
       "    .dataframe thead th {\n",
       "        text-align: right;\n",
       "    }\n",
       "</style>\n",
       "<table border=\"1\" class=\"dataframe\">\n",
       "  <thead>\n",
       "    <tr style=\"text-align: right;\">\n",
       "      <th></th>\n",
       "      <th></th>\n",
       "      <th>bikeid</th>\n",
       "    </tr>\n",
       "    <tr>\n",
       "      <th>starttime_year</th>\n",
       "      <th>starttime_dayofweek</th>\n",
       "      <th></th>\n",
       "    </tr>\n",
       "  </thead>\n",
       "  <tbody>\n",
       "    <tr>\n",
       "      <th rowspan=\"7\" valign=\"top\">2019</th>\n",
       "      <th>0</th>\n",
       "      <td>28,239.562864457872</td>\n",
       "    </tr>\n",
       "    <tr>\n",
       "      <th>1</th>\n",
       "      <td>28,185.39636202893</td>\n",
       "    </tr>\n",
       "    <tr>\n",
       "      <th>2</th>\n",
       "      <td>28,162.047108651008</td>\n",
       "    </tr>\n",
       "    <tr>\n",
       "      <th>3</th>\n",
       "      <td>28,294.90596221488</td>\n",
       "    </tr>\n",
       "    <tr>\n",
       "      <th>4</th>\n",
       "      <td>28,319.506968302794</td>\n",
       "    </tr>\n",
       "    <tr>\n",
       "      <th>5</th>\n",
       "      <td>28,292.188881513677</td>\n",
       "    </tr>\n",
       "    <tr>\n",
       "      <th>6</th>\n",
       "      <td>28,508.839145126964</td>\n",
       "    </tr>\n",
       "    <tr>\n",
       "      <th rowspan=\"7\" valign=\"top\">2020</th>\n",
       "      <th>0</th>\n",
       "      <td>33,475.25528841074</td>\n",
       "    </tr>\n",
       "    <tr>\n",
       "      <th>1</th>\n",
       "      <td>33,510.9232234367</td>\n",
       "    </tr>\n",
       "    <tr>\n",
       "      <th>2</th>\n",
       "      <td>33,462.30580971177</td>\n",
       "    </tr>\n",
       "    <tr>\n",
       "      <th>3</th>\n",
       "      <td>33,573.441489809564</td>\n",
       "    </tr>\n",
       "    <tr>\n",
       "      <th>4</th>\n",
       "      <td>33,658.58212621528</td>\n",
       "    </tr>\n",
       "    <tr>\n",
       "      <th>5</th>\n",
       "      <td>33,531.04466151659</td>\n",
       "    </tr>\n",
       "    <tr>\n",
       "      <th>6</th>\n",
       "      <td>33,509.224095232734</td>\n",
       "    </tr>\n",
       "  </tbody>\n",
       "</table>\n",
       "</div>"
      ],
      "text/plain": [
       "                                                bikeid\n",
       "starttime_year starttime_dayofweek                    \n",
       "2019           0                   28,239.562864457872\n",
       "               1                    28,185.39636202893\n",
       "               2                   28,162.047108651008\n",
       "               3                    28,294.90596221488\n",
       "               4                   28,319.506968302794\n",
       "               5                   28,292.188881513677\n",
       "               6                   28,508.839145126964\n",
       "2020           0                    33,475.25528841074\n",
       "               1                     33,510.9232234367\n",
       "               2                    33,462.30580971177\n",
       "               3                   33,573.441489809564\n",
       "               4                    33,658.58212621528\n",
       "               5                    33,531.04466151659\n",
       "               6                   33,509.224095232734"
      ]
     },
     "execution_count": 133,
     "metadata": {},
     "output_type": "execute_result"
    }
   ],
   "source": [
    "df_final[['starttime_year','starttime_dayofweek','bikeid']].groupby(['starttime_year','starttime_dayofweek']).mean()"
   ]
  },
  {
   "cell_type": "code",
   "execution_count": 127,
   "metadata": {
    "ExecuteTime": {
     "end_time": "2020-08-20T05:31:10.240942Z",
     "start_time": "2020-08-20T05:31:08.849743Z"
    }
   },
   "outputs": [
    {
     "ename": "UnsupportedFunctionCall",
     "evalue": "numpy operations are not valid with groupby. Use .groupby(...).mean() instead",
     "output_type": "error",
     "traceback": [
      "\u001b[1;31m---------------------------------------------------------------------------\u001b[0m",
      "\u001b[1;31mUnsupportedFunctionCall\u001b[0m                   Traceback (most recent call last)",
      "\u001b[1;32m<ipython-input-127-f040fecb03f2>\u001b[0m in \u001b[0;36m<module>\u001b[1;34m\u001b[0m\n\u001b[1;32m----> 1\u001b[1;33m \u001b[0mdf_final\u001b[0m\u001b[1;33m[\u001b[0m\u001b[0mdf_final\u001b[0m\u001b[1;33m[\u001b[0m\u001b[1;34m'starttime_year'\u001b[0m\u001b[1;33m]\u001b[0m\u001b[1;33m==\u001b[0m\u001b[1;36m2020\u001b[0m\u001b[1;33m]\u001b[0m\u001b[1;33m[\u001b[0m\u001b[1;33m[\u001b[0m\u001b[1;34m'starttime_dayofweek'\u001b[0m\u001b[1;33m,\u001b[0m\u001b[1;34m'bikeid'\u001b[0m\u001b[1;33m]\u001b[0m\u001b[1;33m]\u001b[0m\u001b[1;33m.\u001b[0m\u001b[0mgroupby\u001b[0m\u001b[1;33m(\u001b[0m\u001b[1;34m'starttime_dayofweek'\u001b[0m\u001b[1;33m)\u001b[0m\u001b[1;33m.\u001b[0m\u001b[0mmean\u001b[0m\u001b[1;33m(\u001b[0m\u001b[1;34m'bikeid'\u001b[0m\u001b[1;33m)\u001b[0m\u001b[1;33m\u001b[0m\u001b[1;33m\u001b[0m\u001b[0m\n\u001b[0m",
      "\u001b[1;32m~\\Anaconda3\\lib\\site-packages\\pandas\\core\\groupby\\groupby.py\u001b[0m in \u001b[0;36mmean\u001b[1;34m(self, *args, **kwargs)\u001b[0m\n\u001b[0;32m   1222\u001b[0m         \u001b[0mName\u001b[0m\u001b[1;33m:\u001b[0m \u001b[0mB\u001b[0m\u001b[1;33m,\u001b[0m \u001b[0mdtype\u001b[0m\u001b[1;33m:\u001b[0m \u001b[0mfloat64\u001b[0m\u001b[1;33m\u001b[0m\u001b[1;33m\u001b[0m\u001b[0m\n\u001b[0;32m   1223\u001b[0m         \"\"\"\n\u001b[1;32m-> 1224\u001b[1;33m         \u001b[0mnv\u001b[0m\u001b[1;33m.\u001b[0m\u001b[0mvalidate_groupby_func\u001b[0m\u001b[1;33m(\u001b[0m\u001b[1;34m\"mean\"\u001b[0m\u001b[1;33m,\u001b[0m \u001b[0margs\u001b[0m\u001b[1;33m,\u001b[0m \u001b[0mkwargs\u001b[0m\u001b[1;33m,\u001b[0m \u001b[1;33m[\u001b[0m\u001b[1;34m\"numeric_only\"\u001b[0m\u001b[1;33m]\u001b[0m\u001b[1;33m)\u001b[0m\u001b[1;33m\u001b[0m\u001b[1;33m\u001b[0m\u001b[0m\n\u001b[0m\u001b[0;32m   1225\u001b[0m         return self._cython_agg_general(\n\u001b[0;32m   1226\u001b[0m             \u001b[1;34m\"mean\"\u001b[0m\u001b[1;33m,\u001b[0m \u001b[0malt\u001b[0m\u001b[1;33m=\u001b[0m\u001b[1;32mlambda\u001b[0m \u001b[0mx\u001b[0m\u001b[1;33m,\u001b[0m \u001b[0maxis\u001b[0m\u001b[1;33m:\u001b[0m \u001b[0mSeries\u001b[0m\u001b[1;33m(\u001b[0m\u001b[0mx\u001b[0m\u001b[1;33m)\u001b[0m\u001b[1;33m.\u001b[0m\u001b[0mmean\u001b[0m\u001b[1;33m(\u001b[0m\u001b[1;33m**\u001b[0m\u001b[0mkwargs\u001b[0m\u001b[1;33m)\u001b[0m\u001b[1;33m,\u001b[0m \u001b[1;33m**\u001b[0m\u001b[0mkwargs\u001b[0m\u001b[1;33m\u001b[0m\u001b[1;33m\u001b[0m\u001b[0m\n",
      "\u001b[1;32m~\\Anaconda3\\lib\\site-packages\\pandas\\compat\\numpy\\function.py\u001b[0m in \u001b[0;36mvalidate_groupby_func\u001b[1;34m(name, args, kwargs, allowed)\u001b[0m\n\u001b[0;32m    360\u001b[0m     \u001b[1;32mif\u001b[0m \u001b[0mlen\u001b[0m\u001b[1;33m(\u001b[0m\u001b[0margs\u001b[0m\u001b[1;33m)\u001b[0m \u001b[1;33m+\u001b[0m \u001b[0mlen\u001b[0m\u001b[1;33m(\u001b[0m\u001b[0mkwargs\u001b[0m\u001b[1;33m)\u001b[0m \u001b[1;33m>\u001b[0m \u001b[1;36m0\u001b[0m\u001b[1;33m:\u001b[0m\u001b[1;33m\u001b[0m\u001b[1;33m\u001b[0m\u001b[0m\n\u001b[0;32m    361\u001b[0m         raise UnsupportedFunctionCall(\n\u001b[1;32m--> 362\u001b[1;33m             \u001b[1;34mf\"numpy operations are not valid with \"\u001b[0m\u001b[1;33m\u001b[0m\u001b[1;33m\u001b[0m\u001b[0m\n\u001b[0m\u001b[0;32m    363\u001b[0m             \u001b[1;34mf\"groupby. Use .groupby(...).{name}() \"\u001b[0m\u001b[1;33m\u001b[0m\u001b[1;33m\u001b[0m\u001b[0m\n\u001b[0;32m    364\u001b[0m             \u001b[1;34mf\"instead\"\u001b[0m\u001b[1;33m\u001b[0m\u001b[1;33m\u001b[0m\u001b[0m\n",
      "\u001b[1;31mUnsupportedFunctionCall\u001b[0m: numpy operations are not valid with groupby. Use .groupby(...).mean() instead"
     ]
    }
   ],
   "source": [
    "df_final[df_final['starttime_year']==2020][['starttime_dayofweek','bikeid']].groupby('starttime_dayofweek').mean('bikeid')"
   ]
  },
  {
   "cell_type": "code",
   "execution_count": null,
   "metadata": {},
   "outputs": [],
   "source": [
    "# try to get a mean to summarize the data\n",
    "# df_final[['starttime_year','starttime_month', 'bikeid']].groupby(['starttime_year','starttime_month']).mean()"
   ]
  },
  {
   "cell_type": "markdown",
   "metadata": {},
   "source": [
    "### Trip Duration"
   ]
  },
  {
   "cell_type": "markdown",
   "metadata": {},
   "source": [
    "Box plot shows us that there are extreme outliers that should be removed."
   ]
  },
  {
   "cell_type": "code",
   "execution_count": 52,
   "metadata": {
    "ExecuteTime": {
     "end_time": "2020-08-17T02:49:37.140669Z",
     "start_time": "2020-08-17T02:45:47.093696Z"
    }
   },
   "outputs": [
    {
     "data": {
      "text/plain": [
       "Text(0.5, 1.0, 'Trip Duration in Minutes (full dataset)')"
      ]
     },
     "execution_count": 52,
     "metadata": {},
     "output_type": "execute_result"
    },
    {
     "data": {
      "image/png": "[encoded data removed]",
      "text/plain": [
       "<Figure size 432x288 with 1 Axes>"
      ]
     },
     "metadata": {},
     "output_type": "display_data"
    }
   ],
   "source": [
    "# add descriptive title\n",
    "sns.boxplot(x='starttime_year', y='tripduration_minutes', data=df_final, hue='starttime_year')\n",
    "plt.title('Trip Duration in Minutes (full dataset)')"
   ]
  },
  {
   "cell_type": "markdown",
   "metadata": {},
   "source": [
    "99% of trips are 120 minutes or less long so we'll remove any trips longer than that."
   ]
  },
  {
   "cell_type": "code",
   "execution_count": 49,
   "metadata": {
    "ExecuteTime": {
     "end_time": "2020-08-20T03:47:13.356479Z",
     "start_time": "2020-08-20T03:47:10.639303Z"
    }
   },
   "outputs": [
    {
     "name": "stdout",
     "output_type": "stream",
     "text": [
      "Percent of trips <= 120 minutes:\n",
      "99.71%\n"
     ]
    }
   ],
   "source": [
    "print('Percent of 2019 trips <= 120 minutes:')\n",
    "print(f\"{round(df_final[(df_final['tripduration_minutes']<=120)&(df_final['starttime_year']==2019)].shape[0]/df_final[df_final['starttime_year']==2019].shape[0],4)*100}%\")"
   ]
  },
  {
   "cell_type": "code",
   "execution_count": 50,
   "metadata": {
    "ExecuteTime": {
     "end_time": "2020-08-20T03:47:47.408870Z",
     "start_time": "2020-08-20T03:47:45.210526Z"
    }
   },
   "outputs": [
    {
     "name": "stdout",
     "output_type": "stream",
     "text": [
      "Percent of 2020 trips <= 120 minutes:\n",
      "99.29%\n"
     ]
    }
   ],
   "source": [
    "print('Percent of 2020 trips <= 120 minutes:')\n",
    "print(f\"{round(df_final[(df_final['tripduration_minutes']<=120)&(df_final['starttime_year']==2020)].shape[0]/df_final[df_final['starttime_year']==2020].shape[0],4)*100}%\")"
   ]
  },
  {
   "cell_type": "code",
   "execution_count": 55,
   "metadata": {
    "ExecuteTime": {
     "end_time": "2020-08-17T03:02:21.993323Z",
     "start_time": "2020-08-17T02:59:04.117949Z"
    }
   },
   "outputs": [
    {
     "data": {
      "text/plain": [
       "Text(0.5, 1.0, 'Trip Duration in Minutes (filtered on trips <= 120 minutes )')"
      ]
     },
     "execution_count": 55,
     "metadata": {},
     "output_type": "execute_result"
    },
    {
     "data": {
      "image/png": "[encoded data removed]",
      "text/plain": [
       "<Figure size 432x288 with 1 Axes>"
      ]
     },
     "metadata": {},
     "output_type": "display_data"
    }
   ],
   "source": [
    "sns.boxplot(x='starttime_year', y='tripduration_minutes', data=df_final[(df_final['tripduration_minutes']<=120)], hue='starttime_year')\n",
    "plt.title('Trip Duration in Minutes (filtered on trips <= 120 minutes )')"
   ]
  },
  {
   "cell_type": "markdown",
   "metadata": {},
   "source": [
    "Distribution of the remaining trips are positively skewed indicating that most rentals are on the shorter side."
   ]
  },
  {
   "cell_type": "code",
   "execution_count": null,
   "metadata": {},
   "outputs": [],
   "source": [
    "print('Average Trip Duration')\n",
    "df_final[(df_final['tripduration_minutes']<120)][['starttime_year', 'tripduration_minutes']].groupby('starttime_year').mean()"
   ]
  },
  {
   "cell_type": "code",
   "execution_count": null,
   "metadata": {},
   "outputs": [],
   "source": [
    "print('Median Trip Duration')\n",
    "df_final[(df_final['tripduration_minutes']<100)][['starttime_year', 'tripduration_minutes']].groupby('starttime_year').median()"
   ]
  },
  {
   "cell_type": "code",
   "execution_count": 136,
   "metadata": {
    "ExecuteTime": {
     "end_time": "2020-08-20T05:37:51.364238Z",
     "start_time": "2020-08-20T05:37:41.873848Z"
    }
   },
   "outputs": [
    {
     "data": {
      "image/png": "[encoded data removed]",
      "text/plain": [
       "<Figure size 432x504 with 2 Axes>"
      ]
     },
     "metadata": {
      "needs_background": "light"
     },
     "output_type": "display_data"
    }
   ],
   "source": [
    "# create a grid plot to compare the 2019 & 2020 distributions\n",
    "fig, (ax1, ax2) = plt.subplots(2, sharex=True, figsize=(6,7))\n",
    "\n",
    "# plot graphs\n",
    "sns.distplot(df_final[(df_final['starttime_year']==2019) & (df_final['tripduration_minutes']<=120)]['tripduration_minutes'], ax=ax1, label='2019')\n",
    "ax1.axvline(13.4, 0,1,color='red', label='average')\n",
    "ax1.text(13.4+.75, .065, 'avg=13.4', fontsize=9, color='red')\n",
    "ax1.axvline(9.9, 0,1,color='black', label='median')\n",
    "ax1.text(9.9+.75, .05, 'med=9.9', fontsize=9, color='black')\n",
    "\n",
    "sns.distplot(df_final[(df_final['starttime_year']==2020) & (df_final['tripduration_minutes']<=120)]['tripduration_minutes'], color='darkorange',ax=ax2, label='2020')\n",
    "ax2.axvline(17.1, 0,1,color='red')\n",
    "ax2.text(17.1+.75, .05, 'avg=17.1', fontsize=9, color='red')\n",
    "ax2.axvline(12.7, 0,1,color='black')\n",
    "ax2.text(12.7+.75, .04, 'med=12.7', fontsize=9, color='black')\n",
    "\n",
    "# set title and legend\n",
    "fig.suptitle('Distribution of Trip Duration (for trips <= 120 minutes)')\n",
    "legend = fig.legend(loc='center right')"
   ]
  },
  {
   "cell_type": "markdown",
   "metadata": {},
   "source": [
    "Mean and median trip duration are higher in 2020."
   ]
  },
  {
   "cell_type": "markdown",
   "metadata": {},
   "source": [
    "### How has ridership behavior changed before & after COVID?\n",
    "- Busiest times during the day\n",
    "- Length of trip\n",
    "- Popular stations\n",
    "- Popular routes"
   ]
  },
  {
   "cell_type": "markdown",
   "metadata": {},
   "source": [
    "<b>Popular Start / End Stations </b>"
   ]
  },
  {
   "cell_type": "code",
   "execution_count": null,
   "metadata": {},
   "outputs": [],
   "source": []
  },
  {
   "cell_type": "markdown",
   "metadata": {},
   "source": [
    "<b>Popular Routes</b>"
   ]
  },
  {
   "cell_type": "code",
   "execution_count": 22,
   "metadata": {
    "ExecuteTime": {
     "end_time": "2020-08-22T13:37:36.496527Z",
     "start_time": "2020-08-22T13:37:31.411119Z"
    }
   },
   "outputs": [],
   "source": [
    "df_final['route'] = df_final['start station name'] + '__' + df_final['end station name']"
   ]
  },
  {
   "cell_type": "code",
   "execution_count": 23,
   "metadata": {
    "ExecuteTime": {
     "end_time": "2020-08-22T13:37:39.178371Z",
     "start_time": "2020-08-22T13:37:39.130499Z"
    }
   },
   "outputs": [
    {
     "data": {
      "text/plain": [
       "0    Central Park West & W 76 St__W 89 St & Columbu...\n",
       "1               Pershing Square North__E 39 St & 2 Ave\n",
       "2             Amsterdam Ave & W 82 St__E 77 St & 3 Ave\n",
       "3                     1 Ave & E 16 St__W 15 St & 6 Ave\n",
       "4                   Great Jones St__E 20 St & Park Ave\n",
       "Name: route, dtype: object"
      ]
     },
     "execution_count": 23,
     "metadata": {},
     "output_type": "execute_result"
    }
   ],
   "source": [
    "df_final['route'].head()"
   ]
  },
  {
   "cell_type": "code",
   "execution_count": 24,
   "metadata": {
    "ExecuteTime": {
     "end_time": "2020-08-22T13:39:28.166391Z",
     "start_time": "2020-08-22T13:39:20.498683Z"
    }
   },
   "outputs": [],
   "source": [
    "df_popular_routes_2019=pd.DataFrame(df_final[df_final['starttime_year']==2019]['route'].value_counts())"
   ]
  },
  {
   "cell_type": "code",
   "execution_count": 25,
   "metadata": {
    "ExecuteTime": {
     "end_time": "2020-08-22T13:39:32.967432Z",
     "start_time": "2020-08-22T13:39:28.168386Z"
    }
   },
   "outputs": [],
   "source": [
    "df_popular_routes_2020=pd.DataFrame(df_final[df_final['starttime_year']==2020]['route'].value_counts())"
   ]
  },
  {
   "cell_type": "code",
   "execution_count": 29,
   "metadata": {
    "ExecuteTime": {
     "end_time": "2020-08-22T13:40:30.650999Z",
     "start_time": "2020-08-22T13:40:30.641027Z"
    }
   },
   "outputs": [
    {
     "data": {
      "text/html": [
       "<div>\n",
       "<style scoped>\n",
       "    .dataframe tbody tr th:only-of-type {\n",
       "        vertical-align: middle;\n",
       "    }\n",
       "\n",
       "    .dataframe tbody tr th {\n",
       "        vertical-align: top;\n",
       "    }\n",
       "\n",
       "    .dataframe thead th {\n",
       "        text-align: right;\n",
       "    }\n",
       "</style>\n",
       "<table border=\"1\" class=\"dataframe\">\n",
       "  <thead>\n",
       "    <tr style=\"text-align: right;\">\n",
       "      <th></th>\n",
       "      <th>route</th>\n",
       "    </tr>\n",
       "  </thead>\n",
       "  <tbody>\n",
       "    <tr>\n",
       "      <th>E 7 St &amp; Avenue A__Cooper Square &amp; Astor Pl</th>\n",
       "      <td>4041</td>\n",
       "    </tr>\n",
       "    <tr>\n",
       "      <th>Central Park S &amp; 6 Ave__Central Park S &amp; 6 Ave</th>\n",
       "      <td>3127</td>\n",
       "    </tr>\n",
       "    <tr>\n",
       "      <th>Central Park S &amp; 6 Ave__5 Ave &amp; E 88 St</th>\n",
       "      <td>2666</td>\n",
       "    </tr>\n",
       "    <tr>\n",
       "      <th>Pershing Square North__W 33 St &amp; 7 Ave</th>\n",
       "      <td>2593</td>\n",
       "    </tr>\n",
       "    <tr>\n",
       "      <th>West Drive &amp; Prospect Park West__West Drive &amp; Prospect Park West</th>\n",
       "      <td>2574</td>\n",
       "    </tr>\n",
       "    <tr>\n",
       "      <th>N 6 St &amp; Bedford Ave__S 4 St &amp; Wythe Ave</th>\n",
       "      <td>2384</td>\n",
       "    </tr>\n",
       "    <tr>\n",
       "      <th>North Moore St &amp; Greenwich St__Vesey Pl &amp; River Terrace</th>\n",
       "      <td>2359</td>\n",
       "    </tr>\n",
       "    <tr>\n",
       "      <th>McGuinness Blvd &amp; Eagle St__Vernon Blvd &amp; 50 Ave</th>\n",
       "      <td>2255</td>\n",
       "    </tr>\n",
       "    <tr>\n",
       "      <th>Vesey Pl &amp; River Terrace__North Moore St &amp; Greenwich St</th>\n",
       "      <td>2198</td>\n",
       "    </tr>\n",
       "    <tr>\n",
       "      <th>Pershing Square North__E 24 St &amp; Park Ave S</th>\n",
       "      <td>2116</td>\n",
       "    </tr>\n",
       "  </tbody>\n",
       "</table>\n",
       "</div>"
      ],
      "text/plain": [
       "                                                    route\n",
       "E 7 St & Avenue A__Cooper Square & Astor Pl          4041\n",
       "Central Park S & 6 Ave__Central Park S & 6 Ave       3127\n",
       "Central Park S & 6 Ave__5 Ave & E 88 St              2666\n",
       "Pershing Square North__W 33 St & 7 Ave               2593\n",
       "West Drive & Prospect Park West__West Drive & P...   2574\n",
       "N 6 St & Bedford Ave__S 4 St & Wythe Ave             2384\n",
       "North Moore St & Greenwich St__Vesey Pl & River...   2359\n",
       "McGuinness Blvd & Eagle St__Vernon Blvd & 50 Ave     2255\n",
       "Vesey Pl & River Terrace__North Moore St & Gree...   2198\n",
       "Pershing Square North__E 24 St & Park Ave S          2116"
      ]
     },
     "execution_count": 29,
     "metadata": {},
     "output_type": "execute_result"
    }
   ],
   "source": [
    "df_popular_routes_2019.head(10)"
   ]
  },
  {
   "cell_type": "code",
   "execution_count": 30,
   "metadata": {
    "ExecuteTime": {
     "end_time": "2020-08-22T13:40:31.178589Z",
     "start_time": "2020-08-22T13:40:31.168616Z"
    }
   },
   "outputs": [
    {
     "data": {
      "text/html": [
       "<div>\n",
       "<style scoped>\n",
       "    .dataframe tbody tr th:only-of-type {\n",
       "        vertical-align: middle;\n",
       "    }\n",
       "\n",
       "    .dataframe tbody tr th {\n",
       "        vertical-align: top;\n",
       "    }\n",
       "\n",
       "    .dataframe thead th {\n",
       "        text-align: right;\n",
       "    }\n",
       "</style>\n",
       "<table border=\"1\" class=\"dataframe\">\n",
       "  <thead>\n",
       "    <tr style=\"text-align: right;\">\n",
       "      <th></th>\n",
       "      <th>route</th>\n",
       "    </tr>\n",
       "  </thead>\n",
       "  <tbody>\n",
       "    <tr>\n",
       "      <th>West Drive &amp; Prospect Park West__West Drive &amp; Prospect Park West</th>\n",
       "      <td>5858</td>\n",
       "    </tr>\n",
       "    <tr>\n",
       "      <th>12 Ave &amp; W 125 St__12 Ave &amp; W 125 St</th>\n",
       "      <td>3524</td>\n",
       "    </tr>\n",
       "    <tr>\n",
       "      <th>Central Park S &amp; 6 Ave__Central Park S &amp; 6 Ave</th>\n",
       "      <td>2810</td>\n",
       "    </tr>\n",
       "    <tr>\n",
       "      <th>12 Ave &amp; W 40 St__12 Ave &amp; W 40 St</th>\n",
       "      <td>2706</td>\n",
       "    </tr>\n",
       "    <tr>\n",
       "      <th>Brooklyn Bridge Park - Pier 2__Brooklyn Bridge Park - Pier 2</th>\n",
       "      <td>2608</td>\n",
       "    </tr>\n",
       "    <tr>\n",
       "      <th>Broadway &amp; W 60 St__Broadway &amp; W 60 St</th>\n",
       "      <td>2470</td>\n",
       "    </tr>\n",
       "    <tr>\n",
       "      <th>Grand Army Plaza &amp; Plaza St West__Grand Army Plaza &amp; Plaza St West</th>\n",
       "      <td>2459</td>\n",
       "    </tr>\n",
       "    <tr>\n",
       "      <th>5 Ave &amp; E 88 St__5 Ave &amp; E 88 St</th>\n",
       "      <td>2304</td>\n",
       "    </tr>\n",
       "    <tr>\n",
       "      <th>W 169 St &amp; Fort Washington Ave__W 169 St &amp; Fort Washington Ave</th>\n",
       "      <td>2282</td>\n",
       "    </tr>\n",
       "    <tr>\n",
       "      <th>5 Ave &amp; E 73 St__5 Ave &amp; E 73 St</th>\n",
       "      <td>2196</td>\n",
       "    </tr>\n",
       "  </tbody>\n",
       "</table>\n",
       "</div>"
      ],
      "text/plain": [
       "                                                    route\n",
       "West Drive & Prospect Park West__West Drive & P...   5858\n",
       "12 Ave & W 125 St__12 Ave & W 125 St                 3524\n",
       "Central Park S & 6 Ave__Central Park S & 6 Ave       2810\n",
       "12 Ave & W 40 St__12 Ave & W 40 St                   2706\n",
       "Brooklyn Bridge Park - Pier 2__Brooklyn Bridge ...   2608\n",
       "Broadway & W 60 St__Broadway & W 60 St               2470\n",
       "Grand Army Plaza & Plaza St West__Grand Army Pl...   2459\n",
       "5 Ave & E 88 St__5 Ave & E 88 St                     2304\n",
       "W 169 St & Fort Washington Ave__W 169 St & Fort...   2282\n",
       "5 Ave & E 73 St__5 Ave & E 73 St                     2196"
      ]
     },
     "execution_count": 30,
     "metadata": {},
     "output_type": "execute_result"
    }
   ],
   "source": [
    "df_popular_routes_2020.head(10)"
   ]
  },
  {
   "cell_type": "code",
   "execution_count": null,
   "metadata": {},
   "outputs": [],
   "source": []
  },
  {
   "cell_type": "markdown",
   "metadata": {},
   "source": [
    "## Hypothesis Testing"
   ]
  },
  {
   "cell_type": "code",
   "execution_count": 3,
   "metadata": {
    "ExecuteTime": {
     "end_time": "2020-08-23T19:37:17.752062Z",
     "start_time": "2020-08-23T19:37:17.748072Z"
    }
   },
   "outputs": [],
   "source": [
    "from scipy import stats"
   ]
  },
  {
   "cell_type": "markdown",
   "metadata": {},
   "source": [
    "### Were there more rentals during COVID? (t-test)\n",
    "\n",
    "- Null Hypothesis:\n",
    "    - Number of rentals before and after COVID are the same.\n",
    "<br>\n",
    "- Alternative Hypothesis:\n",
    "    - Number of rentals before and after COVID are not the same.\n",
    "<br>\n",
    "- Method:\n",
    "    - 2-tailed, 2-sample t-test\n",
    "<br>\n",
    "- Alpha Level\n",
    "    - 0.05 (or 95% confidence interval)\n",
    "<br>\n",
    "- Degrees of Freedom\n",
    "    - df = n - 1\n",
    "    - n=200\n"
   ]
  },
  {
   "cell_type": "code",
   "execution_count": null,
   "metadata": {},
   "outputs": [],
   "source": []
  },
  {
   "cell_type": "markdown",
   "metadata": {},
   "source": [
    "## Revenue Analysis"
   ]
  },
  {
   "cell_type": "markdown",
   "metadata": {},
   "source": [
    "### Revenue before & after COVID"
   ]
  }
 ],
 "metadata": {
  "kernelspec": {
   "display_name": "Python 3",
   "language": "python",
   "name": "python3"
  },
  "language_info": {
   "codemirror_mode": {
    "name": "ipython",
    "version": 3
   },
   "file_extension": ".py",
   "mimetype": "text/x-python",
   "name": "python",
   "nbconvert_exporter": "python",
   "pygments_lexer": "ipython3",
   "version": "3.7.4"
  },
  "toc": {
   "base_numbering": 1,
   "nav_menu": {
    "height": "112px",
    "width": "312px"
   },
   "number_sections": true,
   "sideBar": true,
   "skip_h1_title": true,
   "title_cell": "Table of Contents",
   "title_sidebar": "Contents",
   "toc_cell": false,
   "toc_position": {
    "height": "calc(100% - 180px)",
    "left": "10px",
    "top": "150px",
    "width": "165px"
   },
   "toc_section_display": true,
   "toc_window_display": true
  }
 },
 "nbformat": 4,
 "nbformat_minor": 2
}
