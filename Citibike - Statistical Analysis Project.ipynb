{
 "cells": [
  {
   "cell_type": "markdown",
   "metadata": {},
   "source": [
    "# Citibike - Statistical Analysis Project\n",
    "\n",
    "<i>August 2020</i>\n",
    "\n",
    "- <u>About the Data:</u>\n",
    "    - https://www.citibikenyc.com/system-data\n",
    "- <u>Data Source:</u>    \n",
    "    - https://s3.amazonaws.com/tripdata/index.html<br>\n",
    "- <u>Data Date Range:</u>\n",
    "    - Jan-June 2019 & Jan-June 2020"
   ]
  },
  {
   "cell_type": "markdown",
   "metadata": {
    "heading_collapsed": true
   },
   "source": [
    "## About the Data"
   ]
  },
  {
   "cell_type": "markdown",
   "metadata": {
    "hidden": true
   },
   "source": [
    "<u>Data Columns:</u>\n",
    "- Trip Duration (seconds)\n",
    "- Start Time and Date\n",
    "- Stop Time and Date\n",
    "- Start Station Name\n",
    "- End Station Name\n",
    "- Station ID\n",
    "- Station Lat/Long\n",
    "- Bike ID\n",
    "- User Type (Customer = 24-hour pass or 3-day pass user; Subscriber = Annual Member)\n",
    "- Gender (Zero=unknown; 1=male; 2=female)\n",
    "- Year of Birth\n",
    "\n",
    "<u>Additional Notes:</u>\n",
    "- Test trips & trips < 60 seconds (potentially false starts or users tyring to redock bike) have been removed.\n",
    "- Milage estimates are calculated using an assumed speed of 7.456 miles per hour, up to two hours. Trips over two hours max-out at 14.9 miles. Once you opt into Ride Insights, the Citi Bike app will use your phone's location to record the route you take between your starting and ending Citi Bike station to give exact mileage.\n",
    "- We only include trips that begin at publicly available stations (thereby excluding trips that originate at our depots for rebalancing or maintenance purposes)."
   ]
  },
  {
   "cell_type": "markdown",
   "metadata": {},
   "source": [
    "## Setup"
   ]
  },
  {
   "cell_type": "markdown",
   "metadata": {},
   "source": [
    "### Import libraries"
   ]
  },
  {
   "cell_type": "code",
   "execution_count": 1,
   "metadata": {
    "ExecuteTime": {
     "end_time": "2020-08-17T01:38:36.772292Z",
     "start_time": "2020-08-17T01:38:33.738997Z"
    }
   },
   "outputs": [
    {
     "name": "stderr",
     "output_type": "stream",
     "text": [
      "C:\\Users\\Grace\\Anaconda3\\lib\\site-packages\\statsmodels\\tools\\_testing.py:19: FutureWarning: pandas.util.testing is deprecated. Use the functions in the public API at pandas.testing instead.\n",
      "  import pandas.util.testing as tm\n"
     ]
    }
   ],
   "source": [
    "# import relevant libraries\n",
    "import pandas as pd\n",
    "import numpy as np\n",
    "import seaborn as sns\n",
    "import matplotlib.pyplot as plt\n",
    "import os\n",
    "import pickle\n",
    "import plotly.express as px\n",
    "pd.set_option(\"display.max_rows\", None)\n",
    "pd.set_option(\"display.max_columns\", None)\n",
    "pd.set_option('display.float_format', lambda x: '%f' % x)\n",
    "pd.options.display.float_format = '{:,}'.format"
   ]
  },
  {
   "cell_type": "markdown",
   "metadata": {
    "heading_collapsed": true
   },
   "source": [
    "### Import data"
   ]
  },
  {
   "cell_type": "code",
   "execution_count": 2,
   "metadata": {
    "ExecuteTime": {
     "end_time": "2020-08-11T23:47:01.130320Z",
     "start_time": "2020-08-11T23:47:01.123339Z"
    },
    "hidden": true
   },
   "outputs": [
    {
     "data": {
      "text/plain": [
       "'C:\\\\Users\\\\Grace\\\\Documents\\\\My_Git_Repos\\\\citibike-analysis'"
      ]
     },
     "execution_count": 2,
     "metadata": {},
     "output_type": "execute_result"
    }
   ],
   "source": [
    "os.getcwd()"
   ]
  },
  {
   "cell_type": "code",
   "execution_count": 3,
   "metadata": {
    "ExecuteTime": {
     "end_time": "2020-08-11T23:47:02.758158Z",
     "start_time": "2020-08-11T23:47:02.752174Z"
    },
    "hidden": true
   },
   "outputs": [],
   "source": [
    "os.chdir(\"data/2019\") "
   ]
  },
  {
   "cell_type": "code",
   "execution_count": 4,
   "metadata": {
    "ExecuteTime": {
     "end_time": "2020-08-11T23:47:04.051456Z",
     "start_time": "2020-08-11T23:47:04.044475Z"
    },
    "hidden": true
   },
   "outputs": [
    {
     "data": {
      "text/plain": [
       "['201901-citibike-tripdata.csv',\n",
       " '201902-citibike-tripdata.csv',\n",
       " '201903-citibike-tripdata.csv',\n",
       " '201904-citibike-tripdata.csv',\n",
       " '201905-citibike-tripdata.csv',\n",
       " '201906-citibike-tripdata.csv',\n",
       " 'df_2019.pickle']"
      ]
     },
     "execution_count": 4,
     "metadata": {},
     "output_type": "execute_result"
    }
   ],
   "source": [
    "os.listdir()"
   ]
  },
  {
   "cell_type": "code",
   "execution_count": 5,
   "metadata": {
    "hidden": true
   },
   "outputs": [],
   "source": [
    "# import all 2019 files into a list of dataframes\n",
    "dfs_2019 = []\n",
    "for file in os.listdir():\n",
    "    dfs_2019.append(pd.read_csv(file))"
   ]
  },
  {
   "cell_type": "code",
   "execution_count": 6,
   "metadata": {
    "hidden": true
   },
   "outputs": [],
   "source": [
    "# concatenate all dataframes into a single dataframe\n",
    "df_2019 =pd.concat(dfs_2019,ignore_index=True)"
   ]
  },
  {
   "cell_type": "code",
   "execution_count": 7,
   "metadata": {
    "hidden": true
   },
   "outputs": [
    {
     "data": {
      "text/plain": [
       "(9055018, 15)"
      ]
     },
     "execution_count": 7,
     "metadata": {},
     "output_type": "execute_result"
    }
   ],
   "source": [
    "df_2019.shape"
   ]
  },
  {
   "cell_type": "code",
   "execution_count": 8,
   "metadata": {
    "hidden": true
   },
   "outputs": [],
   "source": [
    "# pickle the dataframe for easy re-import\n",
    "df_2019.to_pickle('df_2019.pickle')"
   ]
  },
  {
   "cell_type": "code",
   "execution_count": 13,
   "metadata": {
    "hidden": true
   },
   "outputs": [],
   "source": [
    "os.chdir(\"..\") "
   ]
  },
  {
   "cell_type": "code",
   "execution_count": 15,
   "metadata": {
    "hidden": true
   },
   "outputs": [
    {
     "data": {
      "text/plain": [
       "'C:\\\\Users\\\\Grace\\\\Documents\\\\My_Git_Repos\\\\citibike-analysis\\\\data'"
      ]
     },
     "execution_count": 15,
     "metadata": {},
     "output_type": "execute_result"
    }
   ],
   "source": [
    "os.getcwd()"
   ]
  },
  {
   "cell_type": "code",
   "execution_count": 16,
   "metadata": {
    "hidden": true
   },
   "outputs": [],
   "source": [
    "os.chdir('2020')"
   ]
  },
  {
   "cell_type": "code",
   "execution_count": 17,
   "metadata": {
    "hidden": true
   },
   "outputs": [
    {
     "data": {
      "text/plain": [
       "['202001-citibike-tripdata.csv',\n",
       " '202002-citibike-tripdata.csv',\n",
       " '202003-citibike-tripdata.csv',\n",
       " '202004-citibike-tripdata.csv',\n",
       " '202005-citibike-tripdata.csv',\n",
       " '202006-citibike-tripdata.csv']"
      ]
     },
     "execution_count": 17,
     "metadata": {},
     "output_type": "execute_result"
    }
   ],
   "source": [
    "os.listdir()"
   ]
  },
  {
   "cell_type": "code",
   "execution_count": 18,
   "metadata": {
    "hidden": true
   },
   "outputs": [],
   "source": [
    "# import all 2020 files into a list of dataframes\n",
    "dfs_2020 = []\n",
    "for file in os.listdir():\n",
    "    dfs_2020.append(pd.read_csv(file))"
   ]
  },
  {
   "cell_type": "code",
   "execution_count": 19,
   "metadata": {
    "hidden": true
   },
   "outputs": [],
   "source": [
    "# concatenate all dataframes into a single dataframe\n",
    "df_2020 =pd.concat(dfs_2020,ignore_index=True)"
   ]
  },
  {
   "cell_type": "code",
   "execution_count": 20,
   "metadata": {
    "hidden": true
   },
   "outputs": [
    {
     "data": {
      "text/plain": [
       "(7508808, 15)"
      ]
     },
     "execution_count": 20,
     "metadata": {},
     "output_type": "execute_result"
    }
   ],
   "source": [
    "df_2020.shape"
   ]
  },
  {
   "cell_type": "code",
   "execution_count": 21,
   "metadata": {
    "hidden": true
   },
   "outputs": [],
   "source": [
    "# pickle the dataframe for easy re-import\n",
    "df_2020.to_pickle('df_2020.pickle')"
   ]
  },
  {
   "cell_type": "markdown",
   "metadata": {
    "heading_collapsed": true
   },
   "source": [
    "## Data QA & Feature Engineering"
   ]
  },
  {
   "cell_type": "code",
   "execution_count": 34,
   "metadata": {
    "ExecuteTime": {
     "end_time": "2020-08-16T23:26:11.050094Z",
     "start_time": "2020-08-16T23:25:47.750223Z"
    },
    "hidden": true
   },
   "outputs": [],
   "source": [
    "# import pickled file\n",
    "df_2019 = pickle.load(open(\"data/2019/df_2019.pickle\", \"rb\"))\n",
    "df_2020 = pickle.load(open(\"data/2020/df_2020.pickle\", \"rb\"))"
   ]
  },
  {
   "cell_type": "code",
   "execution_count": 38,
   "metadata": {
    "ExecuteTime": {
     "end_time": "2020-08-17T00:02:55.245400Z",
     "start_time": "2020-08-17T00:02:44.299509Z"
    },
    "hidden": true,
    "scrolled": true
   },
   "outputs": [],
   "source": [
    "# concat the two files\n",
    "df_concat = pd.concat([df_2019, df_2020], axis=0)"
   ]
  },
  {
   "cell_type": "code",
   "execution_count": 36,
   "metadata": {
    "ExecuteTime": {
     "end_time": "2020-08-16T23:35:26.269754Z",
     "start_time": "2020-08-16T23:34:38.481264Z"
    },
    "hidden": true
   },
   "outputs": [],
   "source": [
    "# pickle the final file\n",
    "df_concat.to_pickle('data/df_concat.pickle')"
   ]
  },
  {
   "cell_type": "code",
   "execution_count": 42,
   "metadata": {
    "ExecuteTime": {
     "end_time": "2020-08-17T00:03:11.958697Z",
     "start_time": "2020-08-17T00:03:11.925785Z"
    },
    "hidden": true,
    "scrolled": false
   },
   "outputs": [
    {
     "data": {
      "text/plain": [
       "tripduration                 int64\n",
       "starttime                   object\n",
       "stoptime                    object\n",
       "start station id           float64\n",
       "start station name          object\n",
       "start station latitude     float64\n",
       "start station longitude    float64\n",
       "end station id             float64\n",
       "end station name            object\n",
       "end station latitude       float64\n",
       "end station longitude      float64\n",
       "bikeid                       int64\n",
       "usertype                    object\n",
       "birth year                   int64\n",
       "gender                       int64\n",
       "dtype: object"
      ]
     },
     "execution_count": 42,
     "metadata": {},
     "output_type": "execute_result"
    }
   ],
   "source": [
    "# original datatypes\n",
    "df_concat.dtypes"
   ]
  },
  {
   "cell_type": "markdown",
   "metadata": {
    "hidden": true
   },
   "source": [
    "`starttime` and `stoptime` are current set as strings so converting them to datetime."
   ]
  },
  {
   "cell_type": "code",
   "execution_count": 43,
   "metadata": {
    "ExecuteTime": {
     "end_time": "2020-08-17T00:04:10.970478Z",
     "start_time": "2020-08-17T00:03:33.950215Z"
    },
    "hidden": true
   },
   "outputs": [],
   "source": [
    "df_concat['starttime'] = df_concat['starttime'].astype('datetime64')\n",
    "df_concat['stoptime'] =df_concat['stoptime'].astype('datetime64')"
   ]
  },
  {
   "cell_type": "markdown",
   "metadata": {
    "hidden": true
   },
   "source": [
    "### Assess summary statistics & look for null values"
   ]
  },
  {
   "cell_type": "code",
   "execution_count": 44,
   "metadata": {
    "ExecuteTime": {
     "end_time": "2020-08-17T00:26:35.096335Z",
     "start_time": "2020-08-17T00:26:29.324380Z"
    },
    "hidden": true
   },
   "outputs": [
    {
     "data": {
      "text/plain": [
       "tripduration                0\n",
       "starttime                   0\n",
       "stoptime                    0\n",
       "start station id           37\n",
       "start station name         37\n",
       "start station latitude      0\n",
       "start station longitude     0\n",
       "end station id             37\n",
       "end station name           37\n",
       "end station latitude        0\n",
       "end station longitude       0\n",
       "bikeid                      0\n",
       "usertype                    0\n",
       "birth year                  0\n",
       "gender                      0\n",
       "dtype: int64"
      ]
     },
     "execution_count": 44,
     "metadata": {},
     "output_type": "execute_result"
    }
   ],
   "source": [
    "df_concat.isna().sum()"
   ]
  },
  {
   "cell_type": "markdown",
   "metadata": {
    "hidden": true
   },
   "source": [
    "Check that the same 37 records are null across the four columns."
   ]
  },
  {
   "cell_type": "code",
   "execution_count": 45,
   "metadata": {
    "ExecuteTime": {
     "end_time": "2020-08-17T00:26:40.154281Z",
     "start_time": "2020-08-17T00:26:38.421347Z"
    },
    "hidden": true
   },
   "outputs": [
    {
     "data": {
      "text/plain": [
       "(37, 15)"
      ]
     },
     "execution_count": 45,
     "metadata": {},
     "output_type": "execute_result"
    }
   ],
   "source": [
    "df_concat[(df_concat['start station id'].isna()==1) & \\\n",
    "        (df_concat['start station name'].isna()==1) &\\\n",
    "       (df_concat['end station id'].isna()==1) & \\\n",
    "       (df_concat['end station name'].isna()==1)].shape"
   ]
  },
  {
   "cell_type": "markdown",
   "metadata": {
    "hidden": true
   },
   "source": [
    "Drop these 37 rows. Should end up with 9,054,981 (9,055,018-37) rows."
   ]
  },
  {
   "cell_type": "code",
   "execution_count": 46,
   "metadata": {
    "ExecuteTime": {
     "end_time": "2020-08-17T00:27:07.042389Z",
     "start_time": "2020-08-17T00:27:00.242212Z"
    },
    "hidden": true
   },
   "outputs": [],
   "source": [
    "df_concat=df_concat.dropna(how='any')"
   ]
  },
  {
   "cell_type": "code",
   "execution_count": 47,
   "metadata": {
    "ExecuteTime": {
     "end_time": "2020-08-17T00:27:07.057350Z",
     "start_time": "2020-08-17T00:27:07.045382Z"
    },
    "hidden": true
   },
   "outputs": [
    {
     "data": {
      "text/plain": [
       "(16563789, 15)"
      ]
     },
     "execution_count": 47,
     "metadata": {},
     "output_type": "execute_result"
    }
   ],
   "source": [
    "df_concat.shape"
   ]
  },
  {
   "cell_type": "markdown",
   "metadata": {
    "hidden": true
   },
   "source": [
    "Let's look at the summary statics for any odd values."
   ]
  },
  {
   "cell_type": "code",
   "execution_count": 48,
   "metadata": {
    "ExecuteTime": {
     "end_time": "2020-08-17T00:27:38.369025Z",
     "start_time": "2020-08-17T00:27:30.254524Z"
    },
    "hidden": true,
    "scrolled": true
   },
   "outputs": [
    {
     "data": {
      "text/html": [
       "<div>\n",
       "<style scoped>\n",
       "    .dataframe tbody tr th:only-of-type {\n",
       "        vertical-align: middle;\n",
       "    }\n",
       "\n",
       "    .dataframe tbody tr th {\n",
       "        vertical-align: top;\n",
       "    }\n",
       "\n",
       "    .dataframe thead th {\n",
       "        text-align: right;\n",
       "    }\n",
       "</style>\n",
       "<table border=\"1\" class=\"dataframe\">\n",
       "  <thead>\n",
       "    <tr style=\"text-align: right;\">\n",
       "      <th></th>\n",
       "      <th>tripduration</th>\n",
       "      <th>start station id</th>\n",
       "      <th>start station latitude</th>\n",
       "      <th>start station longitude</th>\n",
       "      <th>end station id</th>\n",
       "      <th>end station latitude</th>\n",
       "      <th>end station longitude</th>\n",
       "      <th>bikeid</th>\n",
       "      <th>birth year</th>\n",
       "      <th>gender</th>\n",
       "    </tr>\n",
       "  </thead>\n",
       "  <tbody>\n",
       "    <tr>\n",
       "      <th>count</th>\n",
       "      <td>16,563,789.0</td>\n",
       "      <td>16,563,789.0</td>\n",
       "      <td>16,563,789.0</td>\n",
       "      <td>16,563,789.0</td>\n",
       "      <td>16,563,789.0</td>\n",
       "      <td>16,563,789.0</td>\n",
       "      <td>16,563,789.0</td>\n",
       "      <td>16,563,789.0</td>\n",
       "      <td>16,563,789.0</td>\n",
       "      <td>16,563,789.0</td>\n",
       "    </tr>\n",
       "    <tr>\n",
       "      <th>mean</th>\n",
       "      <td>1,129.0492732067523</td>\n",
       "      <td>1,774.977172493564</td>\n",
       "      <td>40.73789022657857</td>\n",
       "      <td>-73.98036140550202</td>\n",
       "      <td>1,767.1710170299802</td>\n",
       "      <td>40.737615753723</td>\n",
       "      <td>-73.98056440876155</td>\n",
       "      <td>30,659.11244178491</td>\n",
       "      <td>1,980.0675752993473</td>\n",
       "      <td>1.1665628558779637</td>\n",
       "    </tr>\n",
       "    <tr>\n",
       "      <th>std</th>\n",
       "      <td>11,830.35666917819</td>\n",
       "      <td>1,499.2306752440895</td>\n",
       "      <td>0.031875860928880694</td>\n",
       "      <td>0.020689292459692005</td>\n",
       "      <td>1,499.336081153693</td>\n",
       "      <td>0.031746533753056354</td>\n",
       "      <td>0.020746400362384846</td>\n",
       "      <td>7,917.478392640739</td>\n",
       "      <td>12.196159035451352</td>\n",
       "      <td>0.5529663897181637</td>\n",
       "    </tr>\n",
       "    <tr>\n",
       "      <th>min</th>\n",
       "      <td>61.0</td>\n",
       "      <td>72.0</td>\n",
       "      <td>40.65539977447831</td>\n",
       "      <td>-74.02535319328308</td>\n",
       "      <td>72.0</td>\n",
       "      <td>40.65539977447831</td>\n",
       "      <td>-74.07126188278198</td>\n",
       "      <td>14,529.0</td>\n",
       "      <td>1,857.0</td>\n",
       "      <td>0.0</td>\n",
       "    </tr>\n",
       "    <tr>\n",
       "      <th>25%</th>\n",
       "      <td>373.0</td>\n",
       "      <td>393.0</td>\n",
       "      <td>40.71739973</td>\n",
       "      <td>-73.99456405</td>\n",
       "      <td>391.0</td>\n",
       "      <td>40.7172274</td>\n",
       "      <td>-73.9946848154068</td>\n",
       "      <td>26,345.0</td>\n",
       "      <td>1,969.0</td>\n",
       "      <td>1.0</td>\n",
       "    </tr>\n",
       "    <tr>\n",
       "      <th>50%</th>\n",
       "      <td>663.0</td>\n",
       "      <td>525.0</td>\n",
       "      <td>40.73827428</td>\n",
       "      <td>-73.98338988</td>\n",
       "      <td>525.0</td>\n",
       "      <td>40.73804614248277</td>\n",
       "      <td>-73.98379855</td>\n",
       "      <td>31,937.0</td>\n",
       "      <td>1,983.0</td>\n",
       "      <td>1.0</td>\n",
       "    </tr>\n",
       "    <tr>\n",
       "      <th>75%</th>\n",
       "      <td>1,224.0</td>\n",
       "      <td>3,341.0</td>\n",
       "      <td>40.75992262</td>\n",
       "      <td>-73.96804379999999</td>\n",
       "      <td>3,341.0</td>\n",
       "      <td>40.75934501</td>\n",
       "      <td>-73.968087</td>\n",
       "      <td>36,139.0</td>\n",
       "      <td>1,990.0</td>\n",
       "      <td>2.0</td>\n",
       "    </tr>\n",
       "    <tr>\n",
       "      <th>max</th>\n",
       "      <td>3,786,187.0</td>\n",
       "      <td>4,038.0</td>\n",
       "      <td>40.8428422</td>\n",
       "      <td>-73.89795</td>\n",
       "      <td>4,038.0</td>\n",
       "      <td>40.8428422</td>\n",
       "      <td>-73.89795</td>\n",
       "      <td>44,542.0</td>\n",
       "      <td>2,004.0</td>\n",
       "      <td>2.0</td>\n",
       "    </tr>\n",
       "  </tbody>\n",
       "</table>\n",
       "</div>"
      ],
      "text/plain": [
       "             tripduration    start station id  start station latitude  \\\n",
       "count        16,563,789.0        16,563,789.0            16,563,789.0   \n",
       "mean  1,129.0492732067523  1,774.977172493564       40.73789022657857   \n",
       "std    11,830.35666917819 1,499.2306752440895    0.031875860928880694   \n",
       "min                  61.0                72.0       40.65539977447831   \n",
       "25%                 373.0               393.0             40.71739973   \n",
       "50%                 663.0               525.0             40.73827428   \n",
       "75%               1,224.0             3,341.0             40.75992262   \n",
       "max           3,786,187.0             4,038.0              40.8428422   \n",
       "\n",
       "       start station longitude      end station id  end station latitude  \\\n",
       "count             16,563,789.0        16,563,789.0          16,563,789.0   \n",
       "mean        -73.98036140550202 1,767.1710170299802       40.737615753723   \n",
       "std       0.020689292459692005  1,499.336081153693  0.031746533753056354   \n",
       "min         -74.02535319328308                72.0     40.65539977447831   \n",
       "25%               -73.99456405               391.0            40.7172274   \n",
       "50%               -73.98338988               525.0     40.73804614248277   \n",
       "75%         -73.96804379999999             3,341.0           40.75934501   \n",
       "max                  -73.89795             4,038.0            40.8428422   \n",
       "\n",
       "       end station longitude             bikeid          birth year  \\\n",
       "count           16,563,789.0       16,563,789.0        16,563,789.0   \n",
       "mean      -73.98056440876155 30,659.11244178491 1,980.0675752993473   \n",
       "std     0.020746400362384846 7,917.478392640739  12.196159035451352   \n",
       "min       -74.07126188278198           14,529.0             1,857.0   \n",
       "25%        -73.9946848154068           26,345.0             1,969.0   \n",
       "50%             -73.98379855           31,937.0             1,983.0   \n",
       "75%               -73.968087           36,139.0             1,990.0   \n",
       "max                -73.89795           44,542.0             2,004.0   \n",
       "\n",
       "                  gender  \n",
       "count       16,563,789.0  \n",
       "mean  1.1665628558779637  \n",
       "std   0.5529663897181637  \n",
       "min                  0.0  \n",
       "25%                  1.0  \n",
       "50%                  1.0  \n",
       "75%                  2.0  \n",
       "max                  2.0  "
      ]
     },
     "execution_count": 48,
     "metadata": {},
     "output_type": "execute_result"
    }
   ],
   "source": [
    "df_concat.describe()"
   ]
  },
  {
   "cell_type": "markdown",
   "metadata": {
    "hidden": true
   },
   "source": [
    "There are ages (>100) that do not make sense.\n",
    "\n",
    "There are trip durations that are extremely long (spanning several days).\n",
    "\n",
    "Let's make sure to remove these outliers."
   ]
  },
  {
   "cell_type": "markdown",
   "metadata": {
    "hidden": true
   },
   "source": [
    "### Create features\n",
    "\n",
    "\n",
    "<i>New features:</i>\n",
    "1. `tripduration_minutes`\n",
    "2. `starttime_year`\n",
    "3. `starttime_month`\n",
    "4. `age`"
   ]
  },
  {
   "cell_type": "markdown",
   "metadata": {
    "hidden": true
   },
   "source": [
    "Since `tripduration` is in seconds, let's create another column that shows duration in minutes."
   ]
  },
  {
   "cell_type": "code",
   "execution_count": 49,
   "metadata": {
    "ExecuteTime": {
     "end_time": "2020-08-17T00:53:00.786073Z",
     "start_time": "2020-08-17T00:53:00.462936Z"
    },
    "hidden": true
   },
   "outputs": [],
   "source": [
    "df_concat['tripduration_minutes'] = df_concat['tripduration']/60\n",
    "df_concat['tripduration_minutes'] = df_concat['tripduration']/60"
   ]
  },
  {
   "cell_type": "markdown",
   "metadata": {
    "hidden": true
   },
   "source": [
    "It may also be helpful to extract the year & month of each starttimes."
   ]
  },
  {
   "cell_type": "code",
   "execution_count": 50,
   "metadata": {
    "ExecuteTime": {
     "end_time": "2020-08-17T00:53:27.481643Z",
     "start_time": "2020-08-17T00:53:24.890572Z"
    },
    "hidden": true
   },
   "outputs": [],
   "source": [
    "df_concat['starttime_year'] = pd.DatetimeIndex(df_concat['starttime']).year\n",
    "df_concat['starttime_month'] = pd.DatetimeIndex(df_concat['starttime']).month"
   ]
  },
  {
   "cell_type": "markdown",
   "metadata": {
    "hidden": true
   },
   "source": [
    "Create `age` from `birth year`."
   ]
  },
  {
   "cell_type": "code",
   "execution_count": 51,
   "metadata": {
    "ExecuteTime": {
     "end_time": "2020-08-17T00:53:57.903298Z",
     "start_time": "2020-08-17T00:53:57.798579Z"
    },
    "hidden": true
   },
   "outputs": [],
   "source": [
    "df_concat['age'] = df_concat['starttime_year'] - df_concat['birth year']"
   ]
  },
  {
   "cell_type": "code",
   "execution_count": 54,
   "metadata": {
    "ExecuteTime": {
     "end_time": "2020-08-17T00:54:17.389408Z",
     "start_time": "2020-08-17T00:54:17.147056Z"
    },
    "hidden": true
   },
   "outputs": [
    {
     "data": {
      "text/html": [
       "<div>\n",
       "<style scoped>\n",
       "    .dataframe tbody tr th:only-of-type {\n",
       "        vertical-align: middle;\n",
       "    }\n",
       "\n",
       "    .dataframe tbody tr th {\n",
       "        vertical-align: top;\n",
       "    }\n",
       "\n",
       "    .dataframe thead th {\n",
       "        text-align: right;\n",
       "    }\n",
       "</style>\n",
       "<table border=\"1\" class=\"dataframe\">\n",
       "  <thead>\n",
       "    <tr style=\"text-align: right;\">\n",
       "      <th></th>\n",
       "      <th>age</th>\n",
       "      <th>starttime_year</th>\n",
       "      <th>birth year</th>\n",
       "    </tr>\n",
       "  </thead>\n",
       "  <tbody>\n",
       "    <tr>\n",
       "      <th>0</th>\n",
       "      <td>48</td>\n",
       "      <td>2019</td>\n",
       "      <td>1971</td>\n",
       "    </tr>\n",
       "    <tr>\n",
       "      <th>1</th>\n",
       "      <td>55</td>\n",
       "      <td>2019</td>\n",
       "      <td>1964</td>\n",
       "    </tr>\n",
       "    <tr>\n",
       "      <th>2</th>\n",
       "      <td>32</td>\n",
       "      <td>2019</td>\n",
       "      <td>1987</td>\n",
       "    </tr>\n",
       "    <tr>\n",
       "      <th>3</th>\n",
       "      <td>29</td>\n",
       "      <td>2019</td>\n",
       "      <td>1990</td>\n",
       "    </tr>\n",
       "    <tr>\n",
       "      <th>4</th>\n",
       "      <td>40</td>\n",
       "      <td>2019</td>\n",
       "      <td>1979</td>\n",
       "    </tr>\n",
       "  </tbody>\n",
       "</table>\n",
       "</div>"
      ],
      "text/plain": [
       "   age  starttime_year  birth year\n",
       "0   48            2019        1971\n",
       "1   55            2019        1964\n",
       "2   32            2019        1987\n",
       "3   29            2019        1990\n",
       "4   40            2019        1979"
      ]
     },
     "execution_count": 54,
     "metadata": {},
     "output_type": "execute_result"
    }
   ],
   "source": [
    "df_concat[['age','starttime_year', 'birth year']].head()"
   ]
  },
  {
   "cell_type": "markdown",
   "metadata": {
    "hidden": true
   },
   "source": [
    "Drop `birth year` column since we now have age."
   ]
  },
  {
   "cell_type": "code",
   "execution_count": 57,
   "metadata": {
    "ExecuteTime": {
     "end_time": "2020-08-17T01:00:20.777559Z",
     "start_time": "2020-08-17T01:00:20.771575Z"
    },
    "hidden": true
   },
   "outputs": [
    {
     "data": {
      "text/plain": [
       "(16563789, 19)"
      ]
     },
     "execution_count": 57,
     "metadata": {},
     "output_type": "execute_result"
    }
   ],
   "source": [
    "df_concat.shape"
   ]
  },
  {
   "cell_type": "code",
   "execution_count": 58,
   "metadata": {
    "ExecuteTime": {
     "end_time": "2020-08-17T01:00:30.082710Z",
     "start_time": "2020-08-17T01:00:28.258559Z"
    },
    "hidden": true
   },
   "outputs": [],
   "source": [
    "df_concat.drop(columns=['birth year'], inplace=True)"
   ]
  },
  {
   "cell_type": "code",
   "execution_count": 59,
   "metadata": {
    "ExecuteTime": {
     "end_time": "2020-08-17T01:00:37.684003Z",
     "start_time": "2020-08-17T01:00:37.674032Z"
    },
    "hidden": true
   },
   "outputs": [
    {
     "data": {
      "text/plain": [
       "Index(['tripduration', 'starttime', 'stoptime', 'start station id',\n",
       "       'start station name', 'start station latitude',\n",
       "       'start station longitude', 'end station id', 'end station name',\n",
       "       'end station latitude', 'end station longitude', 'bikeid', 'usertype',\n",
       "       'gender', 'tripduration_minutes', 'starttime_year', 'starttime_month',\n",
       "       'age'],\n",
       "      dtype='object')"
      ]
     },
     "execution_count": 59,
     "metadata": {},
     "output_type": "execute_result"
    }
   ],
   "source": [
    "df_concat.columns"
   ]
  },
  {
   "cell_type": "markdown",
   "metadata": {
    "hidden": true
   },
   "source": [
    "0.05% of the data are riders older than 100. Since this is a small group and very unlikely that 100+ ages are accurate, let's drop those rows."
   ]
  },
  {
   "cell_type": "code",
   "execution_count": 60,
   "metadata": {
    "ExecuteTime": {
     "end_time": "2020-08-17T01:03:18.557906Z",
     "start_time": "2020-08-17T01:03:18.472135Z"
    },
    "hidden": true
   },
   "outputs": [
    {
     "data": {
      "text/plain": [
       "0.0005309171711858923"
      ]
     },
     "execution_count": 60,
     "metadata": {},
     "output_type": "execute_result"
    }
   ],
   "source": [
    "df_concat[df_concat['age']>100].shape[0]/df_concat.shape[0]"
   ]
  },
  {
   "cell_type": "code",
   "execution_count": 61,
   "metadata": {
    "ExecuteTime": {
     "end_time": "2020-08-17T01:03:30.163871Z",
     "start_time": "2020-08-17T01:03:27.740354Z"
    },
    "hidden": true
   },
   "outputs": [],
   "source": [
    "df_concat=df_concat[df_concat['age']<=100]"
   ]
  },
  {
   "cell_type": "code",
   "execution_count": 62,
   "metadata": {
    "ExecuteTime": {
     "end_time": "2020-08-17T01:03:35.462827Z",
     "start_time": "2020-08-17T01:03:35.431912Z"
    },
    "hidden": true
   },
   "outputs": [
    {
     "data": {
      "text/html": [
       "<div>\n",
       "<style scoped>\n",
       "    .dataframe tbody tr th:only-of-type {\n",
       "        vertical-align: middle;\n",
       "    }\n",
       "\n",
       "    .dataframe tbody tr th {\n",
       "        vertical-align: top;\n",
       "    }\n",
       "\n",
       "    .dataframe thead th {\n",
       "        text-align: right;\n",
       "    }\n",
       "</style>\n",
       "<table border=\"1\" class=\"dataframe\">\n",
       "  <thead>\n",
       "    <tr style=\"text-align: right;\">\n",
       "      <th></th>\n",
       "      <th>tripduration</th>\n",
       "      <th>starttime</th>\n",
       "      <th>stoptime</th>\n",
       "      <th>start station id</th>\n",
       "      <th>start station name</th>\n",
       "      <th>start station latitude</th>\n",
       "      <th>start station longitude</th>\n",
       "      <th>end station id</th>\n",
       "      <th>end station name</th>\n",
       "      <th>end station latitude</th>\n",
       "      <th>end station longitude</th>\n",
       "      <th>bikeid</th>\n",
       "      <th>usertype</th>\n",
       "      <th>gender</th>\n",
       "      <th>tripduration_minutes</th>\n",
       "      <th>starttime_year</th>\n",
       "      <th>starttime_month</th>\n",
       "      <th>age</th>\n",
       "    </tr>\n",
       "  </thead>\n",
       "  <tbody>\n",
       "    <tr>\n",
       "      <th>0</th>\n",
       "      <td>320</td>\n",
       "      <td>2019-01-01 00:01:47.401</td>\n",
       "      <td>2019-01-01 00:07:07.581</td>\n",
       "      <td>3,160.0</td>\n",
       "      <td>Central Park West &amp; W 76 St</td>\n",
       "      <td>40.77896784</td>\n",
       "      <td>-73.97374737</td>\n",
       "      <td>3,283.0</td>\n",
       "      <td>W 89 St &amp; Columbus Ave</td>\n",
       "      <td>40.7882213</td>\n",
       "      <td>-73.97041561</td>\n",
       "      <td>15839</td>\n",
       "      <td>Subscriber</td>\n",
       "      <td>1</td>\n",
       "      <td>5.333333333333333</td>\n",
       "      <td>2019</td>\n",
       "      <td>1</td>\n",
       "      <td>48</td>\n",
       "    </tr>\n",
       "    <tr>\n",
       "      <th>1</th>\n",
       "      <td>316</td>\n",
       "      <td>2019-01-01 00:04:43.736</td>\n",
       "      <td>2019-01-01 00:10:00.608</td>\n",
       "      <td>519.0</td>\n",
       "      <td>Pershing Square North</td>\n",
       "      <td>40.751872999999996</td>\n",
       "      <td>-73.97770600000001</td>\n",
       "      <td>518.0</td>\n",
       "      <td>E 39 St &amp; 2 Ave</td>\n",
       "      <td>40.74780373</td>\n",
       "      <td>-73.97344190000001</td>\n",
       "      <td>32723</td>\n",
       "      <td>Subscriber</td>\n",
       "      <td>1</td>\n",
       "      <td>5.266666666666667</td>\n",
       "      <td>2019</td>\n",
       "      <td>1</td>\n",
       "      <td>55</td>\n",
       "    </tr>\n",
       "    <tr>\n",
       "      <th>2</th>\n",
       "      <td>591</td>\n",
       "      <td>2019-01-01 00:06:03.997</td>\n",
       "      <td>2019-01-01 00:15:55.438</td>\n",
       "      <td>3,171.0</td>\n",
       "      <td>Amsterdam Ave &amp; W 82 St</td>\n",
       "      <td>40.78524672</td>\n",
       "      <td>-73.97667321</td>\n",
       "      <td>3,154.0</td>\n",
       "      <td>E 77 St &amp; 3 Ave</td>\n",
       "      <td>40.77314236</td>\n",
       "      <td>-73.95856158</td>\n",
       "      <td>27451</td>\n",
       "      <td>Subscriber</td>\n",
       "      <td>1</td>\n",
       "      <td>9.85</td>\n",
       "      <td>2019</td>\n",
       "      <td>1</td>\n",
       "      <td>32</td>\n",
       "    </tr>\n",
       "    <tr>\n",
       "      <th>3</th>\n",
       "      <td>2719</td>\n",
       "      <td>2019-01-01 00:07:03.545</td>\n",
       "      <td>2019-01-01 00:52:22.650</td>\n",
       "      <td>504.0</td>\n",
       "      <td>1 Ave &amp; E 16 St</td>\n",
       "      <td>40.73221853</td>\n",
       "      <td>-73.98165557</td>\n",
       "      <td>3,709.0</td>\n",
       "      <td>W 15 St &amp; 6 Ave</td>\n",
       "      <td>40.73804614248277</td>\n",
       "      <td>-73.99642959237099</td>\n",
       "      <td>21579</td>\n",
       "      <td>Subscriber</td>\n",
       "      <td>1</td>\n",
       "      <td>45.31666666666667</td>\n",
       "      <td>2019</td>\n",
       "      <td>1</td>\n",
       "      <td>29</td>\n",
       "    </tr>\n",
       "    <tr>\n",
       "      <th>4</th>\n",
       "      <td>303</td>\n",
       "      <td>2019-01-01 00:07:35.945</td>\n",
       "      <td>2019-01-01 00:12:39.502</td>\n",
       "      <td>229.0</td>\n",
       "      <td>Great Jones St</td>\n",
       "      <td>40.72743423</td>\n",
       "      <td>-73.99379025</td>\n",
       "      <td>503.0</td>\n",
       "      <td>E 20 St &amp; Park Ave</td>\n",
       "      <td>40.73827428</td>\n",
       "      <td>-73.98751968</td>\n",
       "      <td>35379</td>\n",
       "      <td>Subscriber</td>\n",
       "      <td>1</td>\n",
       "      <td>5.05</td>\n",
       "      <td>2019</td>\n",
       "      <td>1</td>\n",
       "      <td>40</td>\n",
       "    </tr>\n",
       "  </tbody>\n",
       "</table>\n",
       "</div>"
      ],
      "text/plain": [
       "   tripduration               starttime                stoptime  \\\n",
       "0           320 2019-01-01 00:01:47.401 2019-01-01 00:07:07.581   \n",
       "1           316 2019-01-01 00:04:43.736 2019-01-01 00:10:00.608   \n",
       "2           591 2019-01-01 00:06:03.997 2019-01-01 00:15:55.438   \n",
       "3          2719 2019-01-01 00:07:03.545 2019-01-01 00:52:22.650   \n",
       "4           303 2019-01-01 00:07:35.945 2019-01-01 00:12:39.502   \n",
       "\n",
       "   start station id           start station name  start station latitude  \\\n",
       "0           3,160.0  Central Park West & W 76 St             40.77896784   \n",
       "1             519.0        Pershing Square North      40.751872999999996   \n",
       "2           3,171.0      Amsterdam Ave & W 82 St             40.78524672   \n",
       "3             504.0              1 Ave & E 16 St             40.73221853   \n",
       "4             229.0               Great Jones St             40.72743423   \n",
       "\n",
       "   start station longitude  end station id        end station name  \\\n",
       "0             -73.97374737         3,283.0  W 89 St & Columbus Ave   \n",
       "1       -73.97770600000001           518.0         E 39 St & 2 Ave   \n",
       "2             -73.97667321         3,154.0         E 77 St & 3 Ave   \n",
       "3             -73.98165557         3,709.0         W 15 St & 6 Ave   \n",
       "4             -73.99379025           503.0      E 20 St & Park Ave   \n",
       "\n",
       "   end station latitude  end station longitude  bikeid    usertype  gender  \\\n",
       "0            40.7882213           -73.97041561   15839  Subscriber       1   \n",
       "1           40.74780373     -73.97344190000001   32723  Subscriber       1   \n",
       "2           40.77314236           -73.95856158   27451  Subscriber       1   \n",
       "3     40.73804614248277     -73.99642959237099   21579  Subscriber       1   \n",
       "4           40.73827428           -73.98751968   35379  Subscriber       1   \n",
       "\n",
       "   tripduration_minutes  starttime_year  starttime_month  age  \n",
       "0     5.333333333333333            2019                1   48  \n",
       "1     5.266666666666667            2019                1   55  \n",
       "2                  9.85            2019                1   32  \n",
       "3     45.31666666666667            2019                1   29  \n",
       "4                  5.05            2019                1   40  "
      ]
     },
     "execution_count": 62,
     "metadata": {},
     "output_type": "execute_result"
    }
   ],
   "source": [
    "df_concat.head()"
   ]
  },
  {
   "cell_type": "markdown",
   "metadata": {
    "hidden": true
   },
   "source": [
    "Save the final dataframes:"
   ]
  },
  {
   "cell_type": "code",
   "execution_count": 63,
   "metadata": {
    "ExecuteTime": {
     "end_time": "2020-08-17T01:04:33.555441Z",
     "start_time": "2020-08-17T01:04:24.195466Z"
    },
    "hidden": true
   },
   "outputs": [],
   "source": [
    "# pickle the final, clean dataframe\n",
    "df_concat.to_pickle('data/df_final.pickle')"
   ]
  },
  {
   "cell_type": "markdown",
   "metadata": {},
   "source": [
    "## Data Analysis"
   ]
  },
  {
   "cell_type": "code",
   "execution_count": 2,
   "metadata": {
    "ExecuteTime": {
     "end_time": "2020-08-17T01:38:53.653158Z",
     "start_time": "2020-08-17T01:38:46.834391Z"
    }
   },
   "outputs": [],
   "source": [
    "# import pickled dataframes\n",
    "df_final = pickle.load(open(\"data/df_final.pickle\", \"rb\"))"
   ]
  },
  {
   "cell_type": "code",
   "execution_count": 3,
   "metadata": {
    "ExecuteTime": {
     "end_time": "2020-08-17T01:38:54.635531Z",
     "start_time": "2020-08-17T01:38:54.628550Z"
    }
   },
   "outputs": [
    {
     "data": {
      "text/plain": [
       "(16554995, 18)"
      ]
     },
     "execution_count": 3,
     "metadata": {},
     "output_type": "execute_result"
    }
   ],
   "source": [
    "df_final.shape"
   ]
  },
  {
   "cell_type": "code",
   "execution_count": null,
   "metadata": {
    "ExecuteTime": {
     "end_time": "2020-08-17T01:38:55.381536Z",
     "start_time": "2020-08-17T01:38:55.375552Z"
    },
    "scrolled": false
   },
   "outputs": [],
   "source": [
    "df_final.columns"
   ]
  },
  {
   "cell_type": "markdown",
   "metadata": {},
   "source": [
    "<u><b> Questions: </b></u>\n",
    "\n",
    "1. Who's riding Citibikes during COVID (age, gender)?\n",
    "- Ridership numbers\n",
    "- Duration of trips\n",
    "- How has bike rental behavior changed due to COVID? --> when is the busiest time of day/week, how often & for how long\n",
    "- Were there fewer rentals during COVID? --> statistical comparison test; look at rental count for 2019 and 2020, run a t-test to see if you have significant difference.\n",
    "- Did renters take longer trips during COVID --> t-test on trip duration\n",
    "\n",
    "Lastly, look at revenue change in 2019 vs. 2020."
   ]
  },
  {
   "cell_type": "markdown",
   "metadata": {},
   "source": [
    "### Who's riding Citibikes?"
   ]
  },
  {
   "cell_type": "code",
   "execution_count": 60,
   "metadata": {
    "ExecuteTime": {
     "end_time": "2020-08-17T03:05:00.703359Z",
     "start_time": "2020-08-17T03:05:00.696378Z"
    }
   },
   "outputs": [],
   "source": [
    "gender = {0:'Unknown', 1:'Male', 2:'Female'}"
   ]
  },
  {
   "cell_type": "code",
   "execution_count": 71,
   "metadata": {
    "ExecuteTime": {
     "end_time": "2020-08-17T03:07:51.990181Z",
     "start_time": "2020-08-17T03:07:50.516123Z"
    }
   },
   "outputs": [
    {
     "data": {
      "text/html": [
       "<div>\n",
       "<style scoped>\n",
       "    .dataframe tbody tr th:only-of-type {\n",
       "        vertical-align: middle;\n",
       "    }\n",
       "\n",
       "    .dataframe tbody tr th {\n",
       "        vertical-align: top;\n",
       "    }\n",
       "\n",
       "    .dataframe thead th {\n",
       "        text-align: right;\n",
       "    }\n",
       "</style>\n",
       "<table border=\"1\" class=\"dataframe\">\n",
       "  <thead>\n",
       "    <tr style=\"text-align: right;\">\n",
       "      <th></th>\n",
       "      <th></th>\n",
       "      <th>bikeid</th>\n",
       "    </tr>\n",
       "    <tr>\n",
       "      <th>starttime_year</th>\n",
       "      <th>gender</th>\n",
       "      <th></th>\n",
       "    </tr>\n",
       "  </thead>\n",
       "  <tbody>\n",
       "    <tr>\n",
       "      <th rowspan=\"3\" valign=\"top\">2019</th>\n",
       "      <th>0</th>\n",
       "      <td>646816</td>\n",
       "    </tr>\n",
       "    <tr>\n",
       "      <th>1</th>\n",
       "      <td>6301250</td>\n",
       "    </tr>\n",
       "    <tr>\n",
       "      <th>2</th>\n",
       "      <td>2102074</td>\n",
       "    </tr>\n",
       "    <tr>\n",
       "      <th rowspan=\"3\" valign=\"top\">2020</th>\n",
       "      <th>0</th>\n",
       "      <td>734434</td>\n",
       "    </tr>\n",
       "    <tr>\n",
       "      <th>1</th>\n",
       "      <td>4732485</td>\n",
       "    </tr>\n",
       "    <tr>\n",
       "      <th>2</th>\n",
       "      <td>2037936</td>\n",
       "    </tr>\n",
       "  </tbody>\n",
       "</table>\n",
       "</div>"
      ],
      "text/plain": [
       "                        bikeid\n",
       "starttime_year gender         \n",
       "2019           0        646816\n",
       "               1       6301250\n",
       "               2       2102074\n",
       "2020           0        734434\n",
       "               1       4732485\n",
       "               2       2037936"
      ]
     },
     "execution_count": 71,
     "metadata": {},
     "output_type": "execute_result"
    }
   ],
   "source": [
    "df_final[['starttime_year','gender', 'bikeid']].groupby(['starttime_year','gender']).count()"
   ]
  },
  {
   "cell_type": "code",
   "execution_count": 72,
   "metadata": {
    "ExecuteTime": {
     "end_time": "2020-08-17T03:08:05.774324Z",
     "start_time": "2020-08-17T03:08:03.497412Z"
    }
   },
   "outputs": [
    {
     "data": {
      "text/html": [
       "<div>\n",
       "<style scoped>\n",
       "    .dataframe tbody tr th:only-of-type {\n",
       "        vertical-align: middle;\n",
       "    }\n",
       "\n",
       "    .dataframe tbody tr th {\n",
       "        vertical-align: top;\n",
       "    }\n",
       "\n",
       "    .dataframe thead th {\n",
       "        text-align: right;\n",
       "    }\n",
       "</style>\n",
       "<table border=\"1\" class=\"dataframe\">\n",
       "  <thead>\n",
       "    <tr style=\"text-align: right;\">\n",
       "      <th></th>\n",
       "      <th></th>\n",
       "      <th>bikeid</th>\n",
       "    </tr>\n",
       "    <tr>\n",
       "      <th>starttime_year</th>\n",
       "      <th>usertype</th>\n",
       "      <th></th>\n",
       "    </tr>\n",
       "  </thead>\n",
       "  <tbody>\n",
       "    <tr>\n",
       "      <th rowspan=\"2\" valign=\"top\">2019</th>\n",
       "      <th>Customer</th>\n",
       "      <td>1089941</td>\n",
       "    </tr>\n",
       "    <tr>\n",
       "      <th>Subscriber</th>\n",
       "      <td>7960199</td>\n",
       "    </tr>\n",
       "    <tr>\n",
       "      <th rowspan=\"2\" valign=\"top\">2020</th>\n",
       "      <th>Customer</th>\n",
       "      <td>1558551</td>\n",
       "    </tr>\n",
       "    <tr>\n",
       "      <th>Subscriber</th>\n",
       "      <td>5946304</td>\n",
       "    </tr>\n",
       "  </tbody>\n",
       "</table>\n",
       "</div>"
      ],
      "text/plain": [
       "                            bikeid\n",
       "starttime_year usertype           \n",
       "2019           Customer    1089941\n",
       "               Subscriber  7960199\n",
       "2020           Customer    1558551\n",
       "               Subscriber  5946304"
      ]
     },
     "execution_count": 72,
     "metadata": {},
     "output_type": "execute_result"
    }
   ],
   "source": [
    "df_final[['starttime_year','usertype','bikeid']].groupby(['starttime_year','usertype']).count()"
   ]
  },
  {
   "cell_type": "code",
   "execution_count": 51,
   "metadata": {
    "ExecuteTime": {
     "end_time": "2020-08-17T02:40:00.314165Z",
     "start_time": "2020-08-17T02:39:53.552872Z"
    }
   },
   "outputs": [
    {
     "name": "stderr",
     "output_type": "stream",
     "text": [
      "C:\\Users\\Grace\\Anaconda3\\lib\\site-packages\\ipykernel_launcher.py:19: UserWarning:\n",
      "\n",
      "Matplotlib is currently using module://ipykernel.pylab.backend_inline, which is a non-GUI backend, so cannot show the figure.\n",
      "\n"
     ]
    },
    {
     "data": {
      "image/png": "[encoded data removed]",
      "text/plain": [
       "<Figure size 1008x360 with 2 Axes>"
      ]
     },
     "metadata": {},
     "output_type": "display_data"
    }
   ],
   "source": [
    "# try to consolidate this into one graph (double stacked bar graph)\n",
    "fig, ax =plt.subplots(1,2)\n",
    "\n",
    "df_pivot=df_final[df_final['starttime_year']==2019][['starttime_year','starttime_month','bikeid', 'usertype']]\\\n",
    ".groupby(['starttime_year','starttime_month','usertype'])\\\n",
    ".count()\\\n",
    ".reset_index()\\\n",
    ".pivot(index='starttime_month', columns='usertype', values='bikeid')\\\n",
    ".loc[:,['Subscriber','Customer']]\\\n",
    ".plot.bar(stacked=True, color=['steelblue', 'lightsteelblue'], figsize=(14,5), ax=ax[0], title='Number of Rentals by User Type (2019)')\n",
    "\n",
    "df_pivot=df_final[df_final['starttime_year']==2020][['starttime_year','starttime_month','bikeid', 'usertype']]\\\n",
    ".groupby(['starttime_year','starttime_month','usertype'])\\\n",
    ".count()\\\n",
    ".reset_index()\\\n",
    ".pivot(index='starttime_month', columns='usertype', values='bikeid')\\\n",
    ".loc[:,['Subscriber','Customer']]\\\n",
    ".plot.bar(stacked=True, color=['darkorange', 'peachpuff'], figsize=(14,5), ax=ax[1], title='Number of Rentals by User Type (2020)')\n",
    "\n",
    "fig.show()"
   ]
  },
  {
   "cell_type": "markdown",
   "metadata": {},
   "source": [
    "### Ridership Numbers"
   ]
  },
  {
   "cell_type": "code",
   "execution_count": 28,
   "metadata": {
    "ExecuteTime": {
     "end_time": "2020-08-16T20:13:06.722333Z",
     "start_time": "2020-08-16T20:13:06.718343Z"
    }
   },
   "outputs": [],
   "source": [
    "# try to get a mean to summarize the data\n",
    "# df_final[['starttime_year','starttime_month', 'bikeid']].groupby(['starttime_year','starttime_month']).mean()"
   ]
  },
  {
   "cell_type": "markdown",
   "metadata": {},
   "source": [
    "<b> Monthly Citibike Rentals </b>\n",
    "\n",
    "In first two months of 2020, it looked like 2020 was on track to surpass 2019 rental volumes. However, starting March, volumes in 2020 were less than 2019. Specificall, there was a sharp drop between March and April 2020, right when stay at home orders were officially announced for NYC (March 22)."
   ]
  },
  {
   "cell_type": "code",
   "execution_count": 49,
   "metadata": {
    "ExecuteTime": {
     "end_time": "2020-08-17T02:38:54.123885Z",
     "start_time": "2020-08-17T02:38:51.835616Z"
    }
   },
   "outputs": [
    {
     "data": {
      "text/plain": [
       "Text(0, 0.5, 'Number of Rentals')"
      ]
     },
     "execution_count": 49,
     "metadata": {},
     "output_type": "execute_result"
    },
    {
     "data": {
      "image/png": "[encoded data removed]",
      "text/plain": [
       "<Figure size 576x360 with 1 Axes>"
      ]
     },
     "metadata": {},
     "output_type": "display_data"
    }
   ],
   "source": [
    "ax=df_final[['starttime_year','starttime_month', 'bikeid']].groupby(['starttime_year','starttime_month']).count().reset_index()\\\n",
    ".pivot(index='starttime_month', columns='starttime_year', values='bikeid')\\\n",
    ".plot.bar(title='Monthly Citibike Rentals', figsize=(8,5),color=['steelblue', 'darkorange'])\n",
    "\n",
    "handles, labels = ax.get_legend_handles_labels()\n",
    "ax.legend(handles=handles,labels=labels)\n",
    "\n",
    "plt.xlabel('Month')\n",
    "plt.ylabel('Number of Rentals')"
   ]
  },
  {
   "cell_type": "markdown",
   "metadata": {},
   "source": [
    "### Trip Duration"
   ]
  },
  {
   "cell_type": "markdown",
   "metadata": {},
   "source": [
    "Box plot shows us that there are a lot of extreme outliers."
   ]
  },
  {
   "cell_type": "code",
   "execution_count": 52,
   "metadata": {
    "ExecuteTime": {
     "end_time": "2020-08-17T02:49:37.140669Z",
     "start_time": "2020-08-17T02:45:47.093696Z"
    }
   },
   "outputs": [
    {
     "data": {
      "text/plain": [
       "Text(0.5, 1.0, 'Trip Duration in Minutes (full dataset)')"
      ]
     },
     "execution_count": 52,
     "metadata": {},
     "output_type": "execute_result"
    },
    {
     "data": {
      "image/png": "[encoded data removed]",
      "text/plain": [
       "<Figure size 432x288 with 1 Axes>"
      ]
     },
     "metadata": {},
     "output_type": "display_data"
    }
   ],
   "source": [
    "# add descriptive title\n",
    "sns.boxplot(x='starttime_year', y='tripduration_minutes', data=df_final, hue='starttime_year')\n",
    "plt.title('Trip Duration in Minutes (full dataset)')"
   ]
  },
  {
   "cell_type": "code",
   "execution_count": 55,
   "metadata": {
    "ExecuteTime": {
     "end_time": "2020-08-17T03:02:21.993323Z",
     "start_time": "2020-08-17T02:59:04.117949Z"
    }
   },
   "outputs": [
    {
     "data": {
      "text/plain": [
       "Text(0.5, 1.0, 'Trip Duration in Minutes (filtered on trips <= 120 minutes )')"
      ]
     },
     "execution_count": 55,
     "metadata": {},
     "output_type": "execute_result"
    },
    {
     "data": {
      "image/png": "[encoded data removed]",
      "text/plain": [
       "<Figure size 432x288 with 1 Axes>"
      ]
     },
     "metadata": {},
     "output_type": "display_data"
    }
   ],
   "source": [
    "sns.boxplot(x='starttime_year', y='tripduration_minutes', data=df_final[(df_final['tripduration_minutes']<=120)], hue='starttime_year')\n",
    "plt.title('Trip Duration in Minutes (filtered on trips <= 120 minutes )')"
   ]
  },
  {
   "cell_type": "markdown",
   "metadata": {},
   "source": [
    "99% of trips are less than 120 minutes long so we'll remove any trips longer than 100 minutes."
   ]
  },
  {
   "cell_type": "code",
   "execution_count": 23,
   "metadata": {
    "ExecuteTime": {
     "end_time": "2020-08-16T19:40:07.172713Z",
     "start_time": "2020-08-16T19:40:04.580643Z"
    }
   },
   "outputs": [
    {
     "data": {
      "text/plain": [
       "0.9935"
      ]
     },
     "execution_count": 23,
     "metadata": {},
     "output_type": "execute_result"
    }
   ],
   "source": [
    "round(df_final[(df_final['tripduration_min']<=120)].shape[0]/df_final.shape[0],4)"
   ]
  },
  {
   "cell_type": "markdown",
   "metadata": {},
   "source": [
    "Distritubtion of the remaining trips are positively skewed."
   ]
  },
  {
   "cell_type": "code",
   "execution_count": 31,
   "metadata": {
    "ExecuteTime": {
     "end_time": "2020-08-16T20:24:04.964722Z",
     "start_time": "2020-08-16T20:23:58.268574Z"
    }
   },
   "outputs": [
    {
     "data": {
      "text/plain": [
       "Text(0.5, 1.0, 'Trip Duration Distribution - 2019')"
      ]
     },
     "execution_count": 31,
     "metadata": {},
     "output_type": "execute_result"
    },
    {
     "data": {
      "image/png": "[encoded data removed]",
      "text/plain": [
       "<Figure size 432x288 with 1 Axes>"
      ]
     },
     "metadata": {
      "needs_background": "light"
     },
     "output_type": "display_data"
    }
   ],
   "source": [
    "# create a grid plot to compare the 2019 & 2020 distributions\n",
    "# change the color to differentiate the years\n",
    "# relabel the x axis\n",
    "sns.distplot(df_final[(df_final['starttime_year']==2019) & (df_final['tripduration_min']<=120)]['tripduration_min'])\\\n",
    ".set_title('Trip Duration Distribution - 2019')\n",
    "# plt.title()"
   ]
  },
  {
   "cell_type": "code",
   "execution_count": null,
   "metadata": {
    "ExecuteTime": {
     "end_time": "2020-08-17T02:58:58.645432Z",
     "start_time": "2020-08-17T02:58:29.850Z"
    }
   },
   "outputs": [],
   "source": [
    "# 2020 distplot\n",
    "sns.distplot(df_final[(df_final['starttime_year']==2019) & (df_final['tripduration_minutes']<=120)]['tripduration_minutes'], color='darkorange')\\\n",
    ".set_title('Trip Duration Distribution - 2020').set_xlabe('minutes')"
   ]
  },
  {
   "cell_type": "markdown",
   "metadata": {},
   "source": [
    "Since we removed outliers, we know that the min and max trip duration would be between 1 - 99 minutes. Let's look at the mean and median values in 2019 vs. 2020:"
   ]
  },
  {
   "cell_type": "code",
   "execution_count": 9,
   "metadata": {
    "ExecuteTime": {
     "end_time": "2020-08-16T19:19:35.297601Z",
     "start_time": "2020-08-16T19:19:32.195793Z"
    }
   },
   "outputs": [
    {
     "data": {
      "text/html": [
       "<div>\n",
       "<style scoped>\n",
       "    .dataframe tbody tr th:only-of-type {\n",
       "        vertical-align: middle;\n",
       "    }\n",
       "\n",
       "    .dataframe tbody tr th {\n",
       "        vertical-align: top;\n",
       "    }\n",
       "\n",
       "    .dataframe thead th {\n",
       "        text-align: right;\n",
       "    }\n",
       "</style>\n",
       "<table border=\"1\" class=\"dataframe\">\n",
       "  <thead>\n",
       "    <tr style=\"text-align: right;\">\n",
       "      <th></th>\n",
       "      <th>tripduration_min</th>\n",
       "    </tr>\n",
       "    <tr>\n",
       "      <th>starttime_year</th>\n",
       "      <th></th>\n",
       "    </tr>\n",
       "  </thead>\n",
       "  <tbody>\n",
       "    <tr>\n",
       "      <th>2019</th>\n",
       "      <td>13.301869949153561</td>\n",
       "    </tr>\n",
       "    <tr>\n",
       "      <th>2020</th>\n",
       "      <td>16.887988188673514</td>\n",
       "    </tr>\n",
       "  </tbody>\n",
       "</table>\n",
       "</div>"
      ],
      "text/plain": [
       "                 tripduration_min\n",
       "starttime_year                   \n",
       "2019           13.301869949153561\n",
       "2020           16.887988188673514"
      ]
     },
     "execution_count": 9,
     "metadata": {},
     "output_type": "execute_result"
    }
   ],
   "source": [
    "df_final[(df_final['tripduration_min']<120)][['starttime_year', 'tripduration_min']].groupby('starttime_year').mean()"
   ]
  },
  {
   "cell_type": "code",
   "execution_count": 12,
   "metadata": {
    "ExecuteTime": {
     "end_time": "2020-08-16T19:20:22.509225Z",
     "start_time": "2020-08-16T19:20:13.895558Z"
    }
   },
   "outputs": [
    {
     "data": {
      "text/html": [
       "<div>\n",
       "<style scoped>\n",
       "    .dataframe tbody tr th:only-of-type {\n",
       "        vertical-align: middle;\n",
       "    }\n",
       "\n",
       "    .dataframe tbody tr th {\n",
       "        vertical-align: top;\n",
       "    }\n",
       "\n",
       "    .dataframe thead th {\n",
       "        text-align: right;\n",
       "    }\n",
       "</style>\n",
       "<table border=\"1\" class=\"dataframe\">\n",
       "  <thead>\n",
       "    <tr style=\"text-align: right;\">\n",
       "      <th></th>\n",
       "      <th>tripduration_min</th>\n",
       "    </tr>\n",
       "    <tr>\n",
       "      <th>starttime_year</th>\n",
       "      <th></th>\n",
       "    </tr>\n",
       "  </thead>\n",
       "  <tbody>\n",
       "    <tr>\n",
       "      <th>2019</th>\n",
       "      <td>9.933333333333334</td>\n",
       "    </tr>\n",
       "    <tr>\n",
       "      <th>2020</th>\n",
       "      <td>12.65</td>\n",
       "    </tr>\n",
       "  </tbody>\n",
       "</table>\n",
       "</div>"
      ],
      "text/plain": [
       "                tripduration_min\n",
       "starttime_year                  \n",
       "2019           9.933333333333334\n",
       "2020                       12.65"
      ]
     },
     "execution_count": 12,
     "metadata": {},
     "output_type": "execute_result"
    }
   ],
   "source": [
    "df_final[(df_final['tripduration_min']<100)][['starttime_year', 'tripduration_min']].groupby('starttime_year').median()"
   ]
  },
  {
   "cell_type": "markdown",
   "metadata": {},
   "source": [
    "Mean and median trip duration are higher in 2020."
   ]
  },
  {
   "cell_type": "markdown",
   "metadata": {},
   "source": [
    "### How has ridership behavior changed before & after COVID?\n",
    "- Busiest times during the day\n",
    "- Length of trip\n",
    "- Popular stations\n",
    "- Popular routes"
   ]
  },
  {
   "cell_type": "markdown",
   "metadata": {},
   "source": [
    "### Were there fewer rentals during COVID?"
   ]
  },
  {
   "cell_type": "markdown",
   "metadata": {},
   "source": [
    "### Are renters taking longer trips during COVID?"
   ]
  },
  {
   "cell_type": "markdown",
   "metadata": {},
   "source": [
    "### Revenue before & after COVID"
   ]
  }
 ],
 "metadata": {
  "kernelspec": {
   "display_name": "Python 3",
   "language": "python",
   "name": "python3"
  },
  "language_info": {
   "codemirror_mode": {
    "name": "ipython",
    "version": 3
   },
   "file_extension": ".py",
   "mimetype": "text/x-python",
   "name": "python",
   "nbconvert_exporter": "python",
   "pygments_lexer": "ipython3",
   "version": "3.7.4"
  },
  "toc": {
   "base_numbering": 1,
   "nav_menu": {
    "height": "112px",
    "width": "312px"
   },
   "number_sections": true,
   "sideBar": true,
   "skip_h1_title": true,
   "title_cell": "Table of Contents",
   "title_sidebar": "Contents",
   "toc_cell": false,
   "toc_position": {
    "height": "calc(100% - 180px)",
    "left": "10px",
    "top": "150px",
    "width": "165px"
   },
   "toc_section_display": true,
   "toc_window_display": true
  }
 },
 "nbformat": 4,
 "nbformat_minor": 2
}
